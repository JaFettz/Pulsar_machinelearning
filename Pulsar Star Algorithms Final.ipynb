{
 "cells": [
  {
   "cell_type": "markdown",
   "metadata": {},
   "source": [
    "# Predicting Pulsar Stars Using Machine Learning Techniques\n",
    "## Logistic Regression, Support Vector Machine, K Nearest Neighbors, Neural Networks & Random Forest\n",
    "## Javier Urrecha, Raúl González y Mario Aviles\n",
    "### December 10th, 2019"
   ]
  },
  {
   "cell_type": "markdown",
   "metadata": {},
   "source": [
    "## 1. Importing libraries"
   ]
  },
  {
   "cell_type": "code",
   "execution_count": 1,
   "metadata": {},
   "outputs": [
    {
     "name": "stderr",
     "output_type": "stream",
     "text": [
      "Using TensorFlow backend.\n"
     ]
    }
   ],
   "source": [
    "import numpy as np\n",
    "import pandas as pd\n",
    "import matplotlib.pyplot as plt\n",
    "import random\n",
    "from sklearn.model_selection import train_test_split\n",
    "from imblearn.combine import SMOTEENN\n",
    "from sklearn.metrics import confusion_matrix, roc_curve, auc, log_loss\n",
    "from sklearn import metrics\n",
    "import sklearn.metrics as skm\n",
    "from sklearn.linear_model import LogisticRegression\n",
    "from sklearn.svm import SVC\n",
    "from sklearn.neighbors import KNeighborsClassifier\n",
    "from keras.models import Sequential\n",
    "from keras.layers.core import Dense, Activation, Dropout\n",
    "from sklearn.ensemble import RandomForestClassifier"
   ]
  },
  {
   "cell_type": "markdown",
   "metadata": {},
   "source": [
    "## 2. Defining functions"
   ]
  },
  {
   "cell_type": "markdown",
   "metadata": {},
   "source": [
    "### Inner product\n",
    "$$θ=w^TX$$"
   ]
  },
  {
   "cell_type": "code",
   "execution_count": 2,
   "metadata": {},
   "outputs": [],
   "source": [
    "def theta(w, x):\n",
    "    \n",
    "    \"\"\"\n",
    "        params:\n",
    "            w: [np_array] a vector of weights with dimensions (nx1), where n represents the number of weights.\n",
    "            x: [np_array] a matrix of feature variables with dimensions (nxm), \n",
    "                where n represents the number of feature variables and m the number of training examples\n",
    "        returns:\n",
    "            theta: [np_array] a vector of the inner product of w and x with dimensions (1xm)\n",
    "    \"\"\"\n",
    "        \n",
    "    return w.T.dot(x)"
   ]
  },
  {
   "cell_type": "markdown",
   "metadata": {},
   "source": [
    "### Logistic Regression hypothesis\n",
    "$$h_w(x)=g(w^TX)=\\frac{1}{1+e^{-w^TX}}$$"
   ]
  },
  {
   "cell_type": "code",
   "execution_count": 3,
   "metadata": {},
   "outputs": [],
   "source": [
    "def sigmoid(z):\n",
    "    \n",
    "    \"\"\"\n",
    "        params:\n",
    "            z: [np_array] a vector of the inner product of w and x with dimensions (1xm)\n",
    "        returns:\n",
    "            sigmoid: [np_array] a vector of the estimations performed by the model\n",
    "    \"\"\"\n",
    "    \n",
    "    return (1/(1+np.exp(-z)))"
   ]
  },
  {
   "cell_type": "markdown",
   "metadata": {},
   "source": [
    "### Logistic Regression Log Loss \n",
    "$$J(w)=-\\sum_{i=1}^{m}y^{(i)}\\log h_w(x^{(i)}) +(1-y^{(i)})\\log(1-h_w(x^{(i)}))$$"
   ]
  },
  {
   "cell_type": "code",
   "execution_count": 4,
   "metadata": {},
   "outputs": [],
   "source": [
    "def J(w, x, y):\n",
    "    \"\"\"\n",
    "        params:\n",
    "            w: [np_array] a vector of weights with dimensions (nx1), where n represents the number of weights.\n",
    "            x: [np_array] a matrix of feature variables with dimensions (nxm), \n",
    "                where n represents the number of feature variables and m the number of training examples\n",
    "            y: [np_array] a vector of target variables with dimensions (mx1), \n",
    "                where m represents the number of target variables\n",
    "        returns:\n",
    "            J: [double] the loss function\n",
    "    \"\"\"\n",
    "    \n",
    "    z=theta(w,x)\n",
    "    h=sigmoid(z)\n",
    "    return (1/(x.shape[1]))*np.sum((-y * np.log(h) - (1 - y) * np.log(1 - h)))"
   ]
  },
  {
   "cell_type": "markdown",
   "metadata": {},
   "source": [
    "### Log Loss Gradient\n",
    "$$\\frac{\\delta }{\\delta w_j}J(w)=(y-h_w(x))x_j$$"
   ]
  },
  {
   "cell_type": "code",
   "execution_count": 5,
   "metadata": {},
   "outputs": [],
   "source": [
    "def dJ(w, x, y):\n",
    "    \n",
    "    \"\"\"\n",
    "        params:\n",
    "            w: [np_array] a vector of weights with dimensions (nx1), where n represents the number of weights.\n",
    "            x: [np_array] a matrix of feature variables with dimensions (nxm), \n",
    "                where n represents the number of feature variables and m the number of training examples\n",
    "            y: [np_array] a vector of target variables with dimensions (mx1), \n",
    "                where m represents the number of target variables\n",
    "        returns:\n",
    "            dJ: [double] the derivative of the loss function\n",
    "    \"\"\"\n",
    "\n",
    "    z=theta(w,x)\n",
    "    e = sigmoid(z).T - y\n",
    "    \n",
    "    return (1 / (x.shape[1]))*(np.dot(x, e))"
   ]
  },
  {
   "cell_type": "markdown",
   "metadata": {},
   "source": [
    "### Gradient Descent\n",
    "$$w:= w-\\alpha \\nabla_wJ(w)$$"
   ]
  },
  {
   "cell_type": "code",
   "execution_count": 6,
   "metadata": {},
   "outputs": [],
   "source": [
    "def optimizar_LMS(x_train, y_train, x_test, y_test, num_iter, alpha, w=None):\n",
    "\n",
    "    \"\"\"\n",
    "        We calculate gradient descent for minimizing the MSE to obtain the best linear hypothesis.\n",
    "            params:\n",
    "                x_train: [np_array] a matrix of feature variables with dimensions (nxm), \n",
    "                    where n represents the number of feature variables and m the number of training examples\n",
    "                x_test: [np_array] a matrix of feature variables with dimensions (nxm), \n",
    "                    where n represents the number of feature variables and m the number of validating examples\n",
    "                y_train: [np_array] a vector of target variables with dimensions (mx1), \n",
    "                    where m represents the number of training target variables\n",
    "                y_test: [np_array] a vector of target variables with dimensions (mx1), \n",
    "                    where m represents the number of validating target variables\n",
    "                num_iter: [int] an integer indicating the number of iterations of the Gradient Descent algorithm\n",
    "                alpha: [double] learning rate constant specifying the magnitude update step\n",
    "                w: [np_array] vector that contains the initial weights to start optimzing the model with dimensions (n x 1)\n",
    "\n",
    "            return:\n",
    "                J_train: [np_array] a vector (num_iter x 1) containing all cost function evaluations during training\n",
    "                J_test: [np_array] a vector (num_iter x 1) containing all cost function evaluations during training\n",
    "                w: [np_array] a vector of the final optimized weights with dimensions (nx1)\n",
    "    \"\"\"\n",
    "\n",
    "    if w is None:\n",
    "        # Inicializamos los pesos aleatoriamente\n",
    "        w = np.random.randn(x_train.shape[0], 1)\n",
    "\n",
    "    # se generan los vectores\n",
    "    it = np.arange(0, num_iter)\n",
    "    J_train = np.zeros(num_iter)\n",
    "    J_test = np.zeros(num_iter)\n",
    "\n",
    "    # Se optimiza el modelo por el numero de iteraciones\n",
    "    for i in range(num_iter):\n",
    "\n",
    "        # Actualizamos los pesos\n",
    "        w = w - alpha * dJ(w, x_train, y_train)\n",
    "\n",
    "        # Guardamos los costo\n",
    "        J_train[i] = J(w, x_train, y_train)\n",
    "\n",
    "        J_test[i] = J(w, x_test, y_test)\n",
    "\n",
    "    return w, J_train, J_test"
   ]
  },
  {
   "cell_type": "markdown",
   "metadata": {},
   "source": [
    "### Probability function"
   ]
  },
  {
   "cell_type": "code",
   "execution_count": 7,
   "metadata": {},
   "outputs": [],
   "source": [
    "def proba(w,x):\n",
    "    \"\"\"\n",
    "        params:\n",
    "            w: [np_array] a vector of weights with dimensions (nx1), where n represents the number of weights.\n",
    "            x: [np_array] a matrix of feature variables with dimensions (nxm), \n",
    "                where n represents the number of feature variables and m the number of training examples\n",
    "        returns:\n",
    "            probability: [np_array] a vector with the probabilities of belonging to class 1, with dimensions (1xm)\n",
    "    \"\"\"\n",
    "    proba=np.zeros(x.shape[1])\n",
    "    n=0\n",
    "    for i in range(0,x.shape[1]):\n",
    "        y_hat = sigmoid(theta(w, x[:,i]))\n",
    "        proba[n]=y_hat\n",
    "        n+=1\n",
    "\n",
    "    return proba"
   ]
  },
  {
   "cell_type": "markdown",
   "metadata": {},
   "source": [
    "### Classification function"
   ]
  },
  {
   "cell_type": "code",
   "execution_count": 8,
   "metadata": {},
   "outputs": [],
   "source": [
    "def classify(w,x_test,porcentaje):\n",
    "    \"\"\"\n",
    "        params:\n",
    "            w: [np_array] a vector of weights with dimensions (nx1), where n represents the number of weights.\n",
    "            x: [np_array] a matrix of feature variables with dimensions (nxm), \n",
    "                where n represents the number of feature variables and m the number of training examples\n",
    "        returns:\n",
    "            prediction: [np_array] a vector with the predicted classes, with dimensions (1xm)\n",
    "    \"\"\"\n",
    "    prediction = []\n",
    "    for i in range(0,x_test.shape[1]):\n",
    "        y_hat = sigmoid(theta(w, x_test[:,i]))           \n",
    "        if y_hat>porcentaje:\n",
    "            prediction.append(1)\n",
    "        else:\n",
    "            prediction.append(0)\n",
    "    return prediction"
   ]
  },
  {
   "cell_type": "markdown",
   "metadata": {},
   "source": [
    "### Normalization function"
   ]
  },
  {
   "cell_type": "code",
   "execution_count": 9,
   "metadata": {},
   "outputs": [],
   "source": [
    "def norm(arr,min,max):\n",
    "    \n",
    "    \"\"\"\n",
    "        params:\n",
    "            arr: [np_array] a vector of training/validating examples with dimensions (mx1), \n",
    "            where m represents the number training or validating examples\n",
    "            min: [double] the minimum value of the array\n",
    "            max: [double] the maximum value of the array  \n",
    "        returns:\n",
    "            normalization: [np_array] the normalized vector (mx1)\n",
    "    \"\"\"\n",
    "    return (arr - min) / (max - min)\n",
    "    "
   ]
  },
  {
   "cell_type": "markdown",
   "metadata": {},
   "source": [
    "## 3. Importing datasets, balancing and normalazing"
   ]
  },
  {
   "cell_type": "code",
   "execution_count": 10,
   "metadata": {},
   "outputs": [
    {
     "data": {
      "text/html": [
       "<div>\n",
       "<style scoped>\n",
       "    .dataframe tbody tr th:only-of-type {\n",
       "        vertical-align: middle;\n",
       "    }\n",
       "\n",
       "    .dataframe tbody tr th {\n",
       "        vertical-align: top;\n",
       "    }\n",
       "\n",
       "    .dataframe thead th {\n",
       "        text-align: right;\n",
       "    }\n",
       "</style>\n",
       "<table border=\"1\" class=\"dataframe\">\n",
       "  <thead>\n",
       "    <tr style=\"text-align: right;\">\n",
       "      <th></th>\n",
       "      <th>Mean of the integrated profile</th>\n",
       "      <th>Standard deviation of the integrated profile</th>\n",
       "      <th>Excess kurtosis of the integrated profile</th>\n",
       "      <th>Skewness of the integrated profile</th>\n",
       "      <th>Mean of the DM-SNR curve</th>\n",
       "      <th>Standard deviation of the DM-SNR curve</th>\n",
       "      <th>Excess kurtosis of the DM-SNR curve</th>\n",
       "      <th>Skewness of the DM-SNR curve</th>\n",
       "      <th>target_class</th>\n",
       "    </tr>\n",
       "  </thead>\n",
       "  <tbody>\n",
       "    <tr>\n",
       "      <th>0</th>\n",
       "      <td>140.562500</td>\n",
       "      <td>55.683782</td>\n",
       "      <td>-0.234571</td>\n",
       "      <td>-0.699648</td>\n",
       "      <td>3.199833</td>\n",
       "      <td>19.110426</td>\n",
       "      <td>7.975532</td>\n",
       "      <td>74.242225</td>\n",
       "      <td>0</td>\n",
       "    </tr>\n",
       "    <tr>\n",
       "      <th>1</th>\n",
       "      <td>102.507812</td>\n",
       "      <td>58.882430</td>\n",
       "      <td>0.465318</td>\n",
       "      <td>-0.515088</td>\n",
       "      <td>1.677258</td>\n",
       "      <td>14.860146</td>\n",
       "      <td>10.576487</td>\n",
       "      <td>127.393580</td>\n",
       "      <td>0</td>\n",
       "    </tr>\n",
       "    <tr>\n",
       "      <th>2</th>\n",
       "      <td>103.015625</td>\n",
       "      <td>39.341649</td>\n",
       "      <td>0.323328</td>\n",
       "      <td>1.051164</td>\n",
       "      <td>3.121237</td>\n",
       "      <td>21.744669</td>\n",
       "      <td>7.735822</td>\n",
       "      <td>63.171909</td>\n",
       "      <td>0</td>\n",
       "    </tr>\n",
       "    <tr>\n",
       "      <th>3</th>\n",
       "      <td>136.750000</td>\n",
       "      <td>57.178449</td>\n",
       "      <td>-0.068415</td>\n",
       "      <td>-0.636238</td>\n",
       "      <td>3.642977</td>\n",
       "      <td>20.959280</td>\n",
       "      <td>6.896499</td>\n",
       "      <td>53.593661</td>\n",
       "      <td>0</td>\n",
       "    </tr>\n",
       "    <tr>\n",
       "      <th>4</th>\n",
       "      <td>88.726562</td>\n",
       "      <td>40.672225</td>\n",
       "      <td>0.600866</td>\n",
       "      <td>1.123492</td>\n",
       "      <td>1.178930</td>\n",
       "      <td>11.468720</td>\n",
       "      <td>14.269573</td>\n",
       "      <td>252.567306</td>\n",
       "      <td>0</td>\n",
       "    </tr>\n",
       "  </tbody>\n",
       "</table>\n",
       "</div>"
      ],
      "text/plain": [
       "    Mean of the integrated profile  \\\n",
       "0                       140.562500   \n",
       "1                       102.507812   \n",
       "2                       103.015625   \n",
       "3                       136.750000   \n",
       "4                        88.726562   \n",
       "\n",
       "    Standard deviation of the integrated profile  \\\n",
       "0                                      55.683782   \n",
       "1                                      58.882430   \n",
       "2                                      39.341649   \n",
       "3                                      57.178449   \n",
       "4                                      40.672225   \n",
       "\n",
       "    Excess kurtosis of the integrated profile  \\\n",
       "0                                   -0.234571   \n",
       "1                                    0.465318   \n",
       "2                                    0.323328   \n",
       "3                                   -0.068415   \n",
       "4                                    0.600866   \n",
       "\n",
       "    Skewness of the integrated profile   Mean of the DM-SNR curve  \\\n",
       "0                            -0.699648                   3.199833   \n",
       "1                            -0.515088                   1.677258   \n",
       "2                             1.051164                   3.121237   \n",
       "3                            -0.636238                   3.642977   \n",
       "4                             1.123492                   1.178930   \n",
       "\n",
       "    Standard deviation of the DM-SNR curve  \\\n",
       "0                                19.110426   \n",
       "1                                14.860146   \n",
       "2                                21.744669   \n",
       "3                                20.959280   \n",
       "4                                11.468720   \n",
       "\n",
       "    Excess kurtosis of the DM-SNR curve   Skewness of the DM-SNR curve  \\\n",
       "0                              7.975532                      74.242225   \n",
       "1                             10.576487                     127.393580   \n",
       "2                              7.735822                      63.171909   \n",
       "3                              6.896499                      53.593661   \n",
       "4                             14.269573                     252.567306   \n",
       "\n",
       "   target_class  \n",
       "0             0  \n",
       "1             0  \n",
       "2             0  \n",
       "3             0  \n",
       "4             0  "
      ]
     },
     "execution_count": 10,
     "metadata": {},
     "output_type": "execute_result"
    }
   ],
   "source": [
    "# Indicamos la dirección y nombre del archivo y se imprime la cabecera\n",
    "data = pd.read_csv('HTRU_2.csv')\n",
    "data.head()"
   ]
  },
  {
   "cell_type": "code",
   "execution_count": 11,
   "metadata": {},
   "outputs": [
    {
     "name": "stdout",
     "output_type": "stream",
     "text": [
      "Data shape\n",
      " (17898, 9)\n"
     ]
    }
   ],
   "source": [
    "#Se imprimen las dimensiones del conjunto de datos\n",
    "print('Data shape\\n',data.shape)"
   ]
  },
  {
   "cell_type": "code",
   "execution_count": 12,
   "metadata": {},
   "outputs": [
    {
     "name": "stdout",
     "output_type": "stream",
     "text": [
      "Training data shape\n",
      " (12528, 9)\n",
      "\n",
      "Testing data shape\n",
      " (5370, 9)\n"
     ]
    }
   ],
   "source": [
    "#Se utiliza la función train_test_split para separar los datos en 70% de entrenamiento y 30% de validación\n",
    "data_train , data_test = train_test_split(data,test_size = .3,random_state = 100)\n",
    "\n",
    "\n",
    "print('Training data shape\\n',data_train.shape)\n",
    "print('\\nTesting data shape\\n',data_test.shape)"
   ]
  },
  {
   "cell_type": "code",
   "execution_count": 13,
   "metadata": {},
   "outputs": [
    {
     "name": "stdout",
     "output_type": "stream",
     "text": [
      "Training features shape\n",
      " (12528, 8)\n",
      "\n",
      "Training target shape\n",
      " (12528, 1)\n",
      "\n",
      "Testing features shape\n",
      " (5370, 8)\n",
      "\n",
      "Testing target shape\n",
      " (5370, 1)\n"
     ]
    }
   ],
   "source": [
    "#Se seleccionan las primeras ocho columnas para las características y la última columna para la clase,\n",
    "#tanto en entrenamiento como en validación\n",
    "X_train = data_train[[x for x in data_train.columns if x not in [\"target_class\"]]]\n",
    "Y_train = data_train[[\"target_class\"]]\n",
    "X_test  = data_test[[x for x in data_test.columns if x not in [\"target_class\"]]]\n",
    "Y_test  = data_test[[\"target_class\"]]\n",
    "\n",
    "print('Training features shape\\n',X_train.shape)\n",
    "print('\\nTraining target shape\\n',Y_train.shape)\n",
    "print('\\nTesting features shape\\n',X_test.shape)\n",
    "print('\\nTesting target shape\\n',Y_test.shape)"
   ]
  },
  {
   "cell_type": "code",
   "execution_count": 14,
   "metadata": {},
   "outputs": [
    {
     "name": "stdout",
     "output_type": "stream",
     "text": [
      "Class 0: 11385\n",
      "Class 1: 1143\n",
      "Proportion: 9.96 : 1\n"
     ]
    },
    {
     "data": {
      "image/png": "[encoded data removed]",
      "text/plain": [
       "<Figure size 432x288 with 1 Axes>"
      ]
     },
     "metadata": {
      "needs_background": "light"
     },
     "output_type": "display_data"
    }
   ],
   "source": [
    "#Se cuentan los datos de la clase para ver si el conjunto de entrenamiento de la clase está balanceado\n",
    "target_count = Y_train.target_class.value_counts()\n",
    "print('Class 0:', target_count[0])\n",
    "print('Class 1:', target_count[1])\n",
    "print('Proportion:', round(target_count[0] / target_count[1], 2), ': 1')\n",
    "target_count.plot(kind='bar', title='Count (target)');"
   ]
  },
  {
   "cell_type": "code",
   "execution_count": 15,
   "metadata": {},
   "outputs": [
    {
     "name": "stdout",
     "output_type": "stream",
     "text": [
      "(12528, 8)\n",
      "<class 'numpy.ndarray'>\n",
      "(12528, 1)\n",
      "<class 'numpy.ndarray'>\n"
     ]
    }
   ],
   "source": [
    "#Se convierten los conjuntos de entrenamiento en vectores\n",
    "X_train_list = X_train.values.tolist()\n",
    "X_train = np.array(X_train_list, dtype='float64')\n",
    "print(X_train.shape)\n",
    "print(type(X_train))\n",
    "\n",
    "Y_train_list = Y_train.values.tolist()\n",
    "Y_train = np.array(Y_train_list, dtype='float64')\n",
    "print(Y_train.shape)\n",
    "print(type(Y_train))"
   ]
  },
  {
   "cell_type": "code",
   "execution_count": 16,
   "metadata": {},
   "outputs": [
    {
     "name": "stderr",
     "output_type": "stream",
     "text": [
      "C:\\Users\\Raul Gonzalez\\Anaconda3\\lib\\site-packages\\sklearn\\utils\\validation.py:724: DataConversionWarning: A column-vector y was passed when a 1d array was expected. Please change the shape of y to (n_samples, ), for example using ravel().\n",
      "  y = column_or_1d(y, warn=True)\n"
     ]
    }
   ],
   "source": [
    "#Se utiliza la función SMOTEEEN para balancear los datos de entrenamiento\n",
    "smote_enn = SMOTEENN(random_state=0)\n",
    "X_train_res, Y_train_res = smote_enn.fit_resample(X_train, Y_train)"
   ]
  },
  {
   "cell_type": "code",
   "execution_count": 17,
   "metadata": {},
   "outputs": [
    {
     "name": "stdout",
     "output_type": "stream",
     "text": [
      "Class 0: 10014\n",
      "Class 1: 10835\n",
      "Proportion: 0.92 : 1\n"
     ]
    },
    {
     "data": {
      "image/png": "[encoded data removed]",
      "text/plain": [
       "<Figure size 432x288 with 1 Axes>"
      ]
     },
     "metadata": {
      "needs_background": "light"
     },
     "output_type": "display_data"
    }
   ],
   "source": [
    "#Se verifica que los datos de entrenamiento estén balanceados\n",
    "Y_train_res=pd.DataFrame(Y_train_res, columns=['target_class'])\n",
    "target_count_res = Y_train_res.target_class.value_counts()\n",
    "print('Class 0:', target_count_res[0])\n",
    "print('Class 1:', target_count_res[1])\n",
    "print('Proportion:', round(target_count_res[0] / target_count_res[1], 2), ': 1')\n",
    "\n",
    "target_count_res.plot(kind='bar', title='Count (target)');"
   ]
  },
  {
   "cell_type": "code",
   "execution_count": 18,
   "metadata": {},
   "outputs": [
    {
     "name": "stdout",
     "output_type": "stream",
     "text": [
      "(20849, 1)\n",
      "(20849, 8)\n",
      "<class 'pandas.core.frame.DataFrame'>\n",
      "<class 'numpy.ndarray'>\n"
     ]
    }
   ],
   "source": [
    "#Se imprime el tipo y dimensiones de los conjuntos\n",
    "print(Y_train_res.shape)\n",
    "print(X_train_res.shape)\n",
    "print(type(Y_train_res))\n",
    "print(type(X_train_res))"
   ]
  },
  {
   "cell_type": "code",
   "execution_count": 19,
   "metadata": {},
   "outputs": [
    {
     "name": "stdout",
     "output_type": "stream",
     "text": [
      "(20849, 8)\n",
      "(20849, 1)\n",
      "<class 'numpy.ndarray'>\n"
     ]
    }
   ],
   "source": [
    "#Se convierten los conjuntos en vectores\n",
    "Y_train_list = Y_train_res.values.tolist()\n",
    "\n",
    "y_train = np.array(Y_train_list, dtype='float64')\n",
    "\n",
    "x_train=X_train_res\n",
    "\n",
    "print(x_train.shape)\n",
    "print(y_train.shape)\n",
    "print(type(y_train))"
   ]
  },
  {
   "cell_type": "code",
   "execution_count": 20,
   "metadata": {},
   "outputs": [
    {
     "name": "stdout",
     "output_type": "stream",
     "text": [
      "(5370, 8)\n",
      "<class 'numpy.ndarray'>\n",
      "(5370, 1)\n",
      "<class 'numpy.ndarray'>\n"
     ]
    }
   ],
   "source": [
    "#Se convierten los conjuntos de validación en vectores\n",
    "X_test_list = X_test.values.tolist()\n",
    "X_test = np.array(X_test_list, dtype='float64')\n",
    "x_test=X_test\n",
    "print(x_test.shape)\n",
    "print(type(x_test))\n",
    "\n",
    "\n",
    "Y_test_list = Y_test.values.tolist()\n",
    "Y_test = np.array(Y_test_list, dtype='float64')\n",
    "y_test=Y_test\n",
    "print(y_test.shape)\n",
    "print(type(y_test))"
   ]
  },
  {
   "cell_type": "code",
   "execution_count": 21,
   "metadata": {},
   "outputs": [],
   "source": [
    "#Se normalizan los conjuntos de datos de características\n",
    "x_train_norm = np.zeros((x_train.shape[0],x_train.shape[1]))\n",
    "x_test_norm = np.zeros((x_test.shape[0],x_test.shape[1]))\n",
    "\n",
    "for i in range (0,x_train.shape[1]):\n",
    "    x_train_norm[:,i]=norm(x_train[:,i],min(x_train[:,i]), max(x_train[:,i]))\n",
    "    \n",
    "for i in range (0,x_test.shape[1]):\n",
    "    x_test_norm[:,i]=norm(x_test[:,i],min(x_train[:,i]), max(x_train[:,i]))"
   ]
  },
  {
   "cell_type": "code",
   "execution_count": 22,
   "metadata": {},
   "outputs": [
    {
     "name": "stdout",
     "output_type": "stream",
     "text": [
      "[[0.58307892 0.28067169 0.21173358 ... 0.59931604 0.15051058 0.00538666]\n",
      " [0.55426373 0.19049382 0.20553339 ... 0.0490563  0.40856306 0.16046392]\n",
      " [0.5369077  0.23974651 0.24268133 ... 0.0944188  0.32870794 0.08365848]\n",
      " ...\n",
      " [0.30431934 0.22046213 0.4154943  ... 0.33760671 0.19023258 0.01509734]\n",
      " [0.08556533 0.20065443 0.64736297 ... 0.65557516 0.08399583 0.00078449]\n",
      " [0.51801376 0.30679789 0.24278695 ... 0.65794871 0.11994746 0.00189978]]\n",
      "[[0.58123876 0.14939957 0.23421148 ... 0.05359629 0.37712398 0.14024695]\n",
      " [0.53448204 0.29425281 0.22322145 ... 0.14229973 0.28370677 0.05190835]\n",
      " [0.58370624 0.43302787 0.19818329 ... 0.52204571 0.0497964  0.00147159]\n",
      " ...\n",
      " [0.37560119 0.25727772 0.27537442 ... 0.15452032 0.28973011 0.05426537]\n",
      " [0.50198653 0.29075309 0.25006323 ... 0.34093246 0.18562476 0.0132561 ]\n",
      " [0.4934549  0.2494336  0.22766679 ... 0.0555486  0.42695732 0.1622515 ]]\n"
     ]
    }
   ],
   "source": [
    "print(x_train_norm)\n",
    "print(x_test_norm)"
   ]
  },
  {
   "cell_type": "markdown",
   "metadata": {},
   "source": [
    "## 4. Creating the algorithms"
   ]
  },
  {
   "cell_type": "markdown",
   "metadata": {},
   "source": [
    "## Logistic Regression from 0"
   ]
  },
  {
   "cell_type": "code",
   "execution_count": 23,
   "metadata": {},
   "outputs": [
    {
     "name": "stdout",
     "output_type": "stream",
     "text": [
      "(9, 20849)\n",
      "(9, 5370)\n"
     ]
    }
   ],
   "source": [
    "#Se añade la unidad de sesgo\n",
    "x_train_norm_b = np.insert(x_train_norm, 0, 1, axis=1)\n",
    "x_train_norm_b = x_train_norm_b.T\n",
    "\n",
    "print(x_train_norm_b.shape)\n",
    "\n",
    "x_test_norm_b = np.insert(x_test_norm, 0, 1, axis=1)\n",
    "x_test_norm_b = x_test_norm_b.T\n",
    "print(x_test_norm_b.shape)"
   ]
  },
  {
   "cell_type": "code",
   "execution_count": 24,
   "metadata": {},
   "outputs": [
    {
     "name": "stdout",
     "output_type": "stream",
     "text": [
      "w shape\n",
      " (9, 1)\n",
      "w:\n",
      " [[ 1.e+00]\n",
      " [-1.e-01]\n",
      " [-1.e-01]\n",
      " [ 3.e+00]\n",
      " [-3.e-01]\n",
      " [-3.e-02]\n",
      " [ 3.e-02]\n",
      " [-3.e-02]\n",
      " [-1.e-04]]\n"
     ]
    }
   ],
   "source": [
    "# Se asigna un vector w arbitrario\n",
    "w0=1\n",
    "w1 = -0.1\n",
    "w2 = -0.1\n",
    "w3 = 3\n",
    "w4 = -0.3\n",
    "w5 = -0.03\n",
    "w6 = 0.03\n",
    "w7 = -0.03\n",
    "w8 = -0.0001\n",
    "\n",
    "w = np.array([w0,w1, w2, w3, w4, w5, w6, w7, w8], dtype='float64')\n",
    "w = w.reshape((w.shape[0], 1))\n",
    "print('w shape\\n',w.shape)\n",
    "print('w:\\n',w)"
   ]
  },
  {
   "cell_type": "code",
   "execution_count": 25,
   "metadata": {},
   "outputs": [
    {
     "name": "stdout",
     "output_type": "stream",
     "text": [
      "w:\n",
      " [[ 0.96561046]\n",
      " [-0.12199024]\n",
      " [-0.11107063]\n",
      " [ 2.99396877]\n",
      " [-0.30032682]\n",
      " [-0.03049362]\n",
      " [ 0.02646979]\n",
      " [-0.04182223]\n",
      " [-0.00387443]]\n"
     ]
    }
   ],
   "source": [
    "#Se corre el descenso por gradiente para encontrar los mejores pesos w y el costo de entrenamiento y validación\n",
    "alpha=0.001\n",
    "num_iter=100\n",
    "w, j_train, j_test = optimizar_LMS(x_train_norm_b, y_train, x_test_norm_b, y_test, num_iter, alpha, w)\n",
    "\n",
    "print('w:\\n',w)"
   ]
  },
  {
   "cell_type": "code",
   "execution_count": 26,
   "metadata": {},
   "outputs": [
    {
     "data": {
      "image/png": "[encoded data removed]",
      "text/plain": [
       "<Figure size 432x288 with 1 Axes>"
      ]
     },
     "metadata": {
      "needs_background": "light"
     },
     "output_type": "display_data"
    }
   ],
   "source": [
    "#Graficamos el costo\n",
    "it = np.linspace(0, num_iter, num_iter)\n",
    "plt.figure()\n",
    "plt.plot(it, j_train, \"k\", linewidth=3, label=\"Costo entrenamiento\")\n",
    "plt.plot(it, j_test, \"r\", linewidth=3, label=\"Costo validacion\")\n",
    "plt.title(\"Costo J(w)\")\n",
    "plt.xlabel('Iteraciones')\n",
    "plt.ylabel('Costo') \n",
    "plt.legend()\n",
    "plt.show()\n"
   ]
  },
  {
   "cell_type": "code",
   "execution_count": 27,
   "metadata": {},
   "outputs": [
    {
     "name": "stdout",
     "output_type": "stream",
     "text": [
      "<class 'list'>\n"
     ]
    }
   ],
   "source": [
    "#Ejemplo con umbral de 0.85\n",
    "porcentaje=0.85\n",
    "#Se calculan las predicciones de clases\n",
    "val_preds=classify(w,x_test_norm_b,porcentaje)\n",
    "print(type(val_preds))"
   ]
  },
  {
   "cell_type": "code",
   "execution_count": 28,
   "metadata": {
    "scrolled": true
   },
   "outputs": [
    {
     "name": "stdout",
     "output_type": "stream",
     "text": [
      "(5370, 1)\n"
     ]
    }
   ],
   "source": [
    "#Las predicciones se convierten en vectores\n",
    "val_preds = np.array(val_preds, dtype='float64')\n",
    "val_preds = val_preds.reshape(val_preds.shape[0], 1)\n",
    "print(val_preds.shape)\n"
   ]
  },
  {
   "cell_type": "code",
   "execution_count": 29,
   "metadata": {},
   "outputs": [
    {
     "name": "stdout",
     "output_type": "stream",
     "text": [
      "Confusion matix\n",
      " [[4811   63]\n",
      " [  68  428]]\n",
      "\n",
      "Acurracy: 0.9756052141527002\n",
      "Precision: 0.8716904276985743\n",
      "Sensitivity: 0.8629032258064516\n",
      "Specificity: 0.9870742716454657\n",
      "F1-score: 0.8672745694022289\n"
     ]
    }
   ],
   "source": [
    "#Se calcula la matriz de confusión\n",
    "confusion = confusion_matrix(y_test, val_preds)\n",
    "print('Confusion matix\\n',confusion)\n",
    "\n",
    "#Se calculan las métricas de evaluación\n",
    "accuracy=((confusion[0,0]+confusion[1,1])/(confusion[0,0]+confusion[0,1]+confusion[1,0]+confusion[1,1]))\n",
    "precision=(confusion[1,1]/(confusion[1,1]+confusion[0,1]))\n",
    "sensitivity=(confusion[1,1]/(confusion[1,1]+confusion[1,0]))\n",
    "specificity=(confusion[0,0]/(confusion[0,0]+confusion[0,1]))\n",
    "f1score=2*(precision*sensitivity)/(precision+sensitivity)\n",
    "\n",
    "print('\\nAcurracy:',accuracy)\n",
    "print('Precision:',precision)\n",
    "print('Sensitivity:',sensitivity)\n",
    "print('Specificity:',specificity)\n",
    "print('F1-score:',f1score)"
   ]
  },
  {
   "cell_type": "code",
   "execution_count": 30,
   "metadata": {},
   "outputs": [],
   "source": [
    "#Se corre el algorítmo con diferentes umbrales\n",
    "min_umbral=0.8\n",
    "max_umbral=0.95\n",
    "umbrals=101\n",
    "umbral = np.linspace(min_umbral, max_umbral, umbrals)\n",
    "logistic_accuracy=np.zeros(umbral.size-1)\n",
    "logistic_precision=np.zeros(umbral.size-1)\n",
    "logistic_sensitivity=np.zeros(umbral.size-1)\n",
    "logistic_specificity=np.zeros(umbral.size-1)\n",
    "logistic_f1score=np.zeros(umbral.size-1)\n",
    "n=0\n",
    "\n",
    "for i in range(1,101):\n",
    "    porcentaje=umbral[i]\n",
    "    val_preds=classify(w,x_test_norm_b,porcentaje)\n",
    "    confusion_logistic = confusion_matrix(y_test, val_preds)\n",
    "    \n",
    "    \n",
    "    logistic_accuracy[n]=((confusion_logistic[0,0]+confusion_logistic[1,1])/(confusion_logistic[0,0]+confusion_logistic[0,1]+confusion_logistic[1,0]+confusion_logistic[1,1]))\n",
    "    logistic_precision[n]=(confusion_logistic[1,1]/(confusion_logistic[1,1]+confusion_logistic[0,1]))\n",
    "    logistic_sensitivity[n]=(confusion_logistic[1,1]/(confusion_logistic[1,1]+confusion_logistic[1,0]))\n",
    "    logistic_specificity[n]=(confusion_logistic[0,0]/(confusion_logistic[0,0]+confusion_logistic[0,1]))\n",
    "    logistic_f1score[n]=(2*(logistic_precision[n]*logistic_sensitivity[n])/(logistic_precision[n]+logistic_sensitivity[n]))\n",
    "    n+=1\n",
    "    "
   ]
  },
  {
   "cell_type": "code",
   "execution_count": 31,
   "metadata": {},
   "outputs": [
    {
     "name": "stdout",
     "output_type": "stream",
     "text": [
      "TPR:\n",
      " [1.         1.         0.99798387 0.99596774 0.99395161 0.99395161\n",
      " 0.99395161 0.99395161 0.9858871  0.9858871  0.98185484 0.97782258\n",
      " 0.97580645 0.97177419 0.96572581 0.96169355 0.95766129 0.94758065\n",
      " 0.94153226 0.93548387 0.92943548 0.92540323 0.92137097 0.91935484\n",
      " 0.91733871 0.90927419 0.90725806 0.90120968 0.90120968 0.89314516\n",
      " 0.88709677 0.88104839 0.86895161 0.86290323 0.85685484 0.85483871\n",
      " 0.84274194 0.82862903 0.82459677 0.82056452 0.81451613 0.7983871\n",
      " 0.78830645 0.78427419 0.77419355 0.77016129 0.76008065 0.74798387\n",
      " 0.74193548 0.7358871  0.72983871 0.71572581 0.70766129 0.69758065\n",
      " 0.68951613 0.6875     0.67540323 0.66129032 0.65120968 0.6391129\n",
      " 0.63104839 0.62298387 0.61895161 0.61290323 0.60483871 0.59879032\n",
      " 0.58467742 0.57258065 0.55846774 0.54637097 0.53427419 0.51814516\n",
      " 0.51008065 0.50604839 0.49193548 0.47177419 0.45967742 0.45362903\n",
      " 0.44354839 0.43548387 0.42741935 0.41129032 0.40524194 0.39112903\n",
      " 0.36491935 0.35483871 0.34072581 0.3266129  0.3125     0.30040323\n",
      " 0.29435484 0.28024194 0.26814516 0.25806452 0.24193548 0.22580645\n",
      " 0.21572581 0.20362903 0.18951613 0.17540323]\n",
      "\n",
      "FPR:\n",
      " [7.65490357e-01 7.31021748e-01 6.95322117e-01 6.53467378e-01\n",
      " 6.15510874e-01 5.70578580e-01 5.27287649e-01 4.89125975e-01\n",
      " 4.49528108e-01 4.13418137e-01 3.74025441e-01 3.35043086e-01\n",
      " 3.02831350e-01 2.71850636e-01 2.42511284e-01 2.15223636e-01\n",
      " 1.88756668e-01 1.65982766e-01 1.43003693e-01 1.25153878e-01\n",
      " 1.06278211e-01 9.13007796e-02 7.50923266e-02 6.54493229e-02\n",
      " 5.60114895e-02 4.61633156e-02 3.89823554e-02 3.07755437e-02\n",
      " 2.48256053e-02 2.05170291e-02 1.74394748e-02 1.57981124e-02\n",
      " 1.33360689e-02 1.12843660e-02 9.02749282e-03 8.00164136e-03\n",
      " 6.15510874e-03 5.53959787e-03 4.71891670e-03 4.71891670e-03\n",
      " 3.69306524e-03 3.07755437e-03 2.87238408e-03 2.66721379e-03\n",
      " 2.25687320e-03 2.05170291e-03 1.84653262e-03 1.84653262e-03\n",
      " 1.64136233e-03 1.64136233e-03 1.64136233e-03 1.64136233e-03\n",
      " 1.64136233e-03 1.64136233e-03 1.64136233e-03 1.64136233e-03\n",
      " 1.23102175e-03 1.23102175e-03 1.23102175e-03 1.02585146e-03\n",
      " 8.20681165e-04 6.15510874e-04 6.15510874e-04 4.10340583e-04\n",
      " 4.10340583e-04 4.10340583e-04 2.05170291e-04 2.05170291e-04\n",
      " 2.05170291e-04 2.05170291e-04 2.05170291e-04 2.05170291e-04\n",
      " 2.05170291e-04 2.05170291e-04 2.05170291e-04 2.05170291e-04\n",
      " 2.05170291e-04 2.05170291e-04 2.05170291e-04 2.05170291e-04\n",
      " 2.05170291e-04 2.05170291e-04 2.05170291e-04 2.05170291e-04\n",
      " 2.05170291e-04 2.05170291e-04 2.05170291e-04 2.05170291e-04\n",
      " 2.05170291e-04 2.05170291e-04 2.05170291e-04 2.05170291e-04\n",
      " 2.05170291e-04 0.00000000e+00 0.00000000e+00 0.00000000e+00\n",
      " 0.00000000e+00 0.00000000e+00 0.00000000e+00 0.00000000e+00]\n"
     ]
    }
   ],
   "source": [
    "print('TPR:\\n',logistic_sensitivity)\n",
    "print('\\nFPR:\\n',1-logistic_specificity)"
   ]
  },
  {
   "cell_type": "code",
   "execution_count": 32,
   "metadata": {},
   "outputs": [
    {
     "name": "stdout",
     "output_type": "stream",
     "text": [
      "Confusion matriz\n",
      " [[4724  150]\n",
      " [  49  447]]\n",
      "\n",
      "Acurracy: 0.9629422718808194\n",
      "Precision: 0.7487437185929648\n",
      "Sensitivity: 0.9012096774193549\n",
      "Specificity: 0.969224456298728\n",
      "F1-score: 0.817932296431839\n",
      "\n",
      "Optimal threshold: 0.842\n"
     ]
    },
    {
     "data": {
      "image/png": "[encoded data removed]",
      "text/plain": [
       "<Figure size 432x288 with 1 Axes>"
      ]
     },
     "metadata": {
      "needs_background": "light"
     },
     "output_type": "display_data"
    }
   ],
   "source": [
    "#Se obtiene el umbral óptimo\n",
    "optimal_logistic_idx=np.argmax(logistic_sensitivity-(1-logistic_specificity))\n",
    "\n",
    "optimal_logistic_threshold=umbral[optimal_logistic_idx]\n",
    "\n",
    "#Utilizando el mejor umbral\n",
    "porcentaje=umbral[optimal_logistic_idx]\n",
    "#Se calculan las predicciones de clases\n",
    "val_preds=classify(w,x_test_norm_b,porcentaje)\n",
    "\n",
    "#Las predicciones se convierten en vectores\n",
    "val_preds = np.array(val_preds, dtype='float64')\n",
    "val_preds = val_preds.reshape(val_preds.shape[0], 1)\n",
    "\n",
    "#Se calcula la matriz de confusión\n",
    "confusion_best_logistic= confusion_matrix(y_test, val_preds)\n",
    "print('Confusion matriz\\n',confusion_best_logistic)\n",
    "\n",
    "#Se calculan las métricas de evaluación\n",
    "accuracy=((confusion_best_logistic[0,0]+confusion_best_logistic[1,1])/(confusion_best_logistic[0,0]+confusion_best_logistic[0,1]+confusion_best_logistic[1,0]+confusion_best_logistic[1,1]))\n",
    "precision=(confusion_best_logistic[1,1]/(confusion_best_logistic[1,1]+confusion_best_logistic[0,1]))\n",
    "sensitivity=(confusion_best_logistic[1,1]/(confusion_best_logistic[1,1]+confusion_best_logistic[1,0]))\n",
    "specificity=(confusion_best_logistic[0,0]/(confusion_best_logistic[0,0]+confusion_best_logistic[0,1]))\n",
    "f1score=2*(precision*sensitivity)/(precision+sensitivity)\n",
    "\n",
    "print('\\nAcurracy:',accuracy)\n",
    "print('Precision:',precision)\n",
    "print('Sensitivity:',sensitivity)\n",
    "print('Specificity:',specificity)\n",
    "print('F1-score:',f1score)\n",
    "\n",
    "print('\\nOptimal threshold:',optimal_logistic_threshold)\n",
    "\n",
    "#Graficamos curva ROC con lo datos obtenidos\n",
    "plt.figure()\n",
    "plt.plot((1-logistic_specificity),logistic_sensitivity,\"r\", linewidth=3)\n",
    "plt.scatter((1-logistic_specificity[optimal_logistic_idx]),logistic_sensitivity[optimal_logistic_idx], alpha = 1, color='b', label='Best Threshold {}'.format('%.4f' % umbral[optimal_logistic_idx]))\n",
    "plt.title(\"ROC Curve\\nLogistic Regression\")\n",
    "plt.xlabel('1-Specificity')\n",
    "plt.ylabel('Sensitivity') \n",
    "plt.legend()\n",
    "plt.show()"
   ]
  },
  {
   "cell_type": "markdown",
   "metadata": {},
   "source": [
    "## Logistic Regression"
   ]
  },
  {
   "cell_type": "code",
   "execution_count": 33,
   "metadata": {},
   "outputs": [
    {
     "name": "stderr",
     "output_type": "stream",
     "text": [
      "C:\\Users\\Raul Gonzalez\\Anaconda3\\lib\\site-packages\\sklearn\\linear_model\\logistic.py:432: FutureWarning: Default solver will be changed to 'lbfgs' in 0.22. Specify a solver to silence this warning.\n",
      "  FutureWarning)\n"
     ]
    },
    {
     "data": {
      "text/plain": [
       "LogisticRegression(C=1.0, class_weight=None, dual=False, fit_intercept=True,\n",
       "                   intercept_scaling=1, l1_ratio=None, max_iter=100,\n",
       "                   multi_class='warn', n_jobs=None, penalty='l1',\n",
       "                   random_state=0, solver='warn', tol=0.0001, verbose=0,\n",
       "                   warm_start=False)"
      ]
     },
     "execution_count": 33,
     "metadata": {},
     "output_type": "execute_result"
    }
   ],
   "source": [
    "#Utilizamos librerías para hacer el algorítmo de Logistic Regression con regularización de Lasso\n",
    "y_train=np.ravel(y_train,order='C')\n",
    "logistic=LogisticRegression(random_state=0,penalty='l1')\n",
    "logistic.fit(x_train_norm, y_train)"
   ]
  },
  {
   "cell_type": "code",
   "execution_count": 34,
   "metadata": {},
   "outputs": [
    {
     "name": "stdout",
     "output_type": "stream",
     "text": [
      "Confusion matrix\n",
      " [[4703  171]\n",
      " [  32  464]]\n",
      "\n",
      "Acurracy: 0.9621973929236499\n",
      "Precision: 0.7307086614173228\n",
      "Sensitivity: 0.9354838709677419\n",
      "Specificity: 0.9649158801805499\n",
      "F1-score: 0.8205128205128205\n",
      "\n",
      "Optimal threshold: 0.5319154518434702\n",
      "AUC: 0.9794250598964882\n",
      "\n",
      "Log loss: 1.3056812549957981\n"
     ]
    },
    {
     "data": {
      "image/png": "[encoded data removed]",
      "text/plain": [
       "<Figure size 432x288 with 1 Axes>"
      ]
     },
     "metadata": {
      "needs_background": "light"
     },
     "output_type": "display_data"
    }
   ],
   "source": [
    "#Hacemos las predicciones\n",
    "y_logistic_pred = logistic.predict(x_test_norm)\n",
    "\n",
    "#Calculamos la matriz de confusión\n",
    "confusion_logistic = confusion_matrix(y_test,y_logistic_pred)\n",
    "print(\"Confusion matrix\\n\",confusion_logistic)\n",
    "\n",
    "#Se calculan las métricas de evaluación\n",
    "accuracy=((confusion_logistic[0,0]+confusion_logistic[1,1])/(confusion_logistic[0,0]+confusion_logistic[0,1]+confusion_logistic[1,0]+confusion_logistic[1,1]))\n",
    "precision=(confusion_logistic[1,1]/(confusion_logistic[1,1]+confusion_logistic[0,1]))\n",
    "sensitivity=(confusion_logistic[1,1]/(confusion_logistic[1,1]+confusion_logistic[1,0]))\n",
    "specificity=(confusion_logistic[0,0]/(confusion_logistic[0,0]+confusion_logistic[0,1]))\n",
    "f1score=2*(precision*sensitivity)/(precision+sensitivity)\n",
    "\n",
    "print('\\nAcurracy:',accuracy)\n",
    "print('Precision:',precision)\n",
    "print('Sensitivity:',sensitivity)\n",
    "print('Specificity:',specificity)\n",
    "print('F1-score:',f1score)\n",
    "\n",
    "\n",
    "#Encontramos la probabilidad de las perdicciones que sea clase 1\n",
    "y_logistic_pred_proba = logistic.predict_proba(x_test_norm)[:,1]\n",
    "\n",
    "#Obtenemos el false positve rate y el true positive rate con librerías\n",
    "fpr_logistic, tpr_logistic, thresholds_logistic = metrics.roc_curve(y_test,y_logistic_pred_proba)\n",
    "\n",
    "#Calculamos el área bajo la curva ROC utilizando librerías\n",
    "auc_logistic=skm.roc_auc_score(y_test,y_logistic_pred_proba)\n",
    "\n",
    "#Se obtiene el umbral óptimo\n",
    "optimal_thresholds_logistic_idx=np.argmax(tpr_logistic-fpr_logistic)\n",
    "\n",
    "optimal_thresholds_logistic=thresholds_logistic[optimal_thresholds_logistic_idx]\n",
    "print('\\nOptimal threshold:',optimal_thresholds_logistic)\n",
    "print('AUC:',auc_logistic)\n",
    "logistic_loss = log_loss(y_test, y_logistic_pred)\n",
    "print(\"\\nLog loss:\",logistic_loss)\n",
    "\n",
    "#Graficamos la curva ROC utilizando librerías\n",
    "plt.figure()\n",
    "plt.plot(fpr_logistic, tpr_logistic,\"r\", linewidth=3, label='AUC {}'.format('%.4f' % auc_logistic))\n",
    "plt.scatter((fpr_logistic[optimal_thresholds_logistic_idx]),tpr_logistic[optimal_thresholds_logistic_idx], alpha = 1, color='b', label='Best Threshold {}'.format('%.4f' % thresholds_logistic[optimal_thresholds_logistic_idx]))\n",
    "plt.title(\"ROC Curve\\nLogistic Regression\")\n",
    "plt.xlabel('1-Specificity')\n",
    "plt.ylabel('Sensitivity') \n",
    "plt.legend()\n",
    "plt.show()"
   ]
  },
  {
   "cell_type": "code",
   "execution_count": 35,
   "metadata": {},
   "outputs": [
    {
     "name": "stderr",
     "output_type": "stream",
     "text": [
      "C:\\Users\\Raul Gonzalez\\Anaconda3\\lib\\site-packages\\sklearn\\linear_model\\logistic.py:432: FutureWarning: Default solver will be changed to 'lbfgs' in 0.22. Specify a solver to silence this warning.\n",
      "  FutureWarning)\n"
     ]
    },
    {
     "data": {
      "text/plain": [
       "LogisticRegression(C=1.0, class_weight=None, dual=False, fit_intercept=True,\n",
       "                   intercept_scaling=1, l1_ratio=None, max_iter=100,\n",
       "                   multi_class='warn', n_jobs=None, penalty='l2',\n",
       "                   random_state=0, solver='warn', tol=0.0001, verbose=0,\n",
       "                   warm_start=False)"
      ]
     },
     "execution_count": 35,
     "metadata": {},
     "output_type": "execute_result"
    }
   ],
   "source": [
    "#Utilizamos librerías para hacer el algorítmo de Logistic Regression con regularización de Ridge\n",
    "logistic=LogisticRegression(random_state=0,penalty='l2')\n",
    "logistic.fit(x_train_norm, y_train)"
   ]
  },
  {
   "cell_type": "code",
   "execution_count": 36,
   "metadata": {},
   "outputs": [
    {
     "name": "stdout",
     "output_type": "stream",
     "text": [
      "Confusion matrix\n",
      " [[4675  199]\n",
      " [  38  458]]\n",
      "\n",
      "Acurracy: 0.9558659217877095\n",
      "Precision: 0.6971080669710806\n",
      "Sensitivity: 0.9233870967741935\n",
      "Specificity: 0.9591711120229791\n",
      "F1-score: 0.7944492627927146\n",
      "\n",
      "Optimal threshold: 0.45272743377738367\n",
      "AUC: 0.9761530901293234\n",
      "\n",
      "Log loss: 1.5243666900339747\n"
     ]
    },
    {
     "data": {
      "image/png": "[encoded data removed]",
      "text/plain": [
       "<Figure size 432x288 with 1 Axes>"
      ]
     },
     "metadata": {
      "needs_background": "light"
     },
     "output_type": "display_data"
    }
   ],
   "source": [
    "#Hacemos las predicciones\n",
    "y_logistic_pred = logistic.predict(x_test_norm)\n",
    "\n",
    "#Calculamos la matriz de confusión\n",
    "confusion_logistic = confusion_matrix(y_test,y_logistic_pred)\n",
    "print(\"Confusion matrix\\n\",confusion_logistic)\n",
    "\n",
    "#Se calculan las métricas de evaluación\n",
    "accuracy=((confusion_logistic[0,0]+confusion_logistic[1,1])/(confusion_logistic[0,0]+confusion_logistic[0,1]+confusion_logistic[1,0]+confusion_logistic[1,1]))\n",
    "precision=(confusion_logistic[1,1]/(confusion_logistic[1,1]+confusion_logistic[0,1]))\n",
    "sensitivity=(confusion_logistic[1,1]/(confusion_logistic[1,1]+confusion_logistic[1,0]))\n",
    "specificity=(confusion_logistic[0,0]/(confusion_logistic[0,0]+confusion_logistic[0,1]))\n",
    "f1score=2*(precision*sensitivity)/(precision+sensitivity)\n",
    "\n",
    "print('\\nAcurracy:',accuracy)\n",
    "print('Precision:',precision)\n",
    "print('Sensitivity:',sensitivity)\n",
    "print('Specificity:',specificity)\n",
    "print('F1-score:',f1score)\n",
    "\n",
    "\n",
    "#Encontramos la probabilidad de las perdicciones que sea clase 1\n",
    "y_logistic_pred_proba = logistic.predict_proba(x_test_norm)[:,1]\n",
    "\n",
    "#Obtenemos el false positve rate y el true positive rate con librerías\n",
    "fpr_logistic, tpr_logistic, thresholds_logistic = metrics.roc_curve(y_test,y_logistic_pred_proba)\n",
    "\n",
    "#Calculamos el área bajo la curva ROC utilizando librerías\n",
    "auc_logistic=skm.roc_auc_score(y_test,y_logistic_pred_proba)\n",
    "\n",
    "#Se obtiene el umbral óptimo\n",
    "optimal_thresholds_logistic_idx=np.argmax(tpr_logistic-fpr_logistic)\n",
    "\n",
    "optimal_thresholds_logistic=thresholds_logistic[optimal_thresholds_logistic_idx]\n",
    "print('\\nOptimal threshold:',optimal_thresholds_logistic)\n",
    "print('AUC:',auc_logistic)\n",
    "logistic_loss = log_loss(y_test, y_logistic_pred)\n",
    "print(\"\\nLog loss:\",logistic_loss)\n",
    "\n",
    "#Graficamos la curva ROC utilizando librerías\n",
    "plt.figure()\n",
    "plt.plot(fpr_logistic, tpr_logistic,\"r\", linewidth=3, label='AUC {}'.format('%.4f' % auc_logistic))\n",
    "plt.scatter((fpr_logistic[optimal_thresholds_logistic_idx]),tpr_logistic[optimal_thresholds_logistic_idx], alpha = 1, color='b', label='Best Threshold {}'.format('%.4f' % thresholds_logistic[optimal_thresholds_logistic_idx]))\n",
    "plt.title(\"ROC Curve\\nLogistic Regression\")\n",
    "plt.xlabel('1-Specificity')\n",
    "plt.ylabel('Sensitivity') \n",
    "plt.legend()\n",
    "plt.show()"
   ]
  },
  {
   "cell_type": "markdown",
   "metadata": {},
   "source": [
    "## Support Vector Machine"
   ]
  },
  {
   "cell_type": "code",
   "execution_count": 37,
   "metadata": {},
   "outputs": [
    {
     "data": {
      "text/plain": [
       "SVC(C=1.0, cache_size=200, class_weight=None, coef0=0.0,\n",
       "    decision_function_shape='ovr', degree=3, gamma='auto_deprecated',\n",
       "    kernel='linear', max_iter=-1, probability=True, random_state=None,\n",
       "    shrinking=True, tol=0.001, verbose=False)"
      ]
     },
     "execution_count": 37,
     "metadata": {},
     "output_type": "execute_result"
    }
   ],
   "source": [
    "#Definimos el kernel primero como lineal y entrenamos el modelo\n",
    "svclassifier = SVC(kernel='linear', probability=True)\n",
    "svclassifier.fit(x_train_norm, y_train)\n"
   ]
  },
  {
   "cell_type": "code",
   "execution_count": 38,
   "metadata": {},
   "outputs": [
    {
     "name": "stdout",
     "output_type": "stream",
     "text": [
      "Confusion matrix\n",
      " [[4751  123]\n",
      " [  35  461]]\n",
      "\n",
      "Acurracy: 0.9705772811918063\n",
      "Precision: 0.7893835616438356\n",
      "Sensitivity: 0.9294354838709677\n",
      "Specificity: 0.9747640541649569\n",
      "F1-score: 0.8537037037037037\n",
      "\n",
      "Optimal threshold: 0.6031909244103996\n",
      "AUC: 0.9779013809284287\n",
      "\n",
      "Log loss: 1.0162430206480086\n"
     ]
    },
    {
     "data": {
      "image/png": "[encoded data removed]",
      "text/plain": [
       "<Figure size 432x288 with 1 Axes>"
      ]
     },
     "metadata": {
      "needs_background": "light"
     },
     "output_type": "display_data"
    }
   ],
   "source": [
    "#Encontramos las predicciones\n",
    "y_svm_pred = svclassifier.predict(x_test_norm)\n",
    "\n",
    "#Calculamos la matriz de confusión\n",
    "confusion_svm = confusion_matrix(y_test,y_svm_pred)\n",
    "print(\"Confusion matrix\\n\",confusion_svm)\n",
    "\n",
    "#Se calculan las métricas de evaluación\n",
    "accuracy=((confusion_svm[0,0]+confusion_svm[1,1])/(confusion_svm[0,0]+confusion_svm[0,1]+confusion_svm[1,0]+confusion_svm[1,1]))\n",
    "precision=(confusion_svm[1,1]/(confusion_svm[1,1]+confusion_svm[0,1]))\n",
    "sensitivity=(confusion_svm[1,1]/(confusion_svm[1,1]+confusion_svm[1,0]))\n",
    "specificity=(confusion_svm[0,0]/(confusion_svm[0,0]+confusion_svm[0,1]))\n",
    "f1score=2*(precision*sensitivity)/(precision+sensitivity)\n",
    "\n",
    "print('\\nAcurracy:',accuracy)\n",
    "print('Precision:',precision)\n",
    "print('Sensitivity:',sensitivity)\n",
    "print('Specificity:',specificity)\n",
    "print('F1-score:',f1score)\n",
    "\n",
    "#Encontramos la probabilidad de las perdicciones que sea clase 1\n",
    "y_svm_pred_proba = svclassifier.predict_proba(x_test_norm)[:,1]\n",
    "\n",
    "#Obtenemos el false positve rate y el true positive rate con librerías\n",
    "fpr_svm, tpr_svm, thresholds_svm = metrics.roc_curve(y_test, y_svm_pred_proba)\n",
    "\n",
    "#Calculamos el área bajo la curva ROC utilizando librerías\n",
    "auc_svm=skm.roc_auc_score(y_test,y_svm_pred_proba)\n",
    "\n",
    "#Se obtiene el umbral óptimo\n",
    "optimal_thresholds_svm_idx=np.argmax(tpr_svm-fpr_svm)\n",
    "\n",
    "\n",
    "optimal_thresholds_svm=thresholds_svm[optimal_thresholds_svm_idx]\n",
    "print('\\nOptimal threshold:',optimal_thresholds_svm)\n",
    "print('AUC:',auc_svm)\n",
    "\n",
    "svm_loss = log_loss(y_test, y_svm_pred)\n",
    "print(\"\\nLog loss:\",svm_loss)\n",
    "\n",
    "#Graficamos la curva ROC utilizando librerías\n",
    "plt.figure()\n",
    "plt.plot(fpr_svm, tpr_svm,\"r\", linewidth=3, label='AUC {}'.format('%.4f' % auc_svm))\n",
    "plt.scatter((fpr_svm[optimal_thresholds_svm_idx]),tpr_svm[optimal_thresholds_svm_idx], alpha = 1, color='b', label='Best Threshold {}'.format('%.4f' % thresholds_svm[optimal_thresholds_svm_idx]))\n",
    "plt.title(\"ROC Curve\\nSVM Linear Kernel\")\n",
    "plt.xlabel('1-Specificity')\n",
    "plt.ylabel('Sensitivity')\n",
    "plt.legend()\n",
    "plt.show()\n"
   ]
  },
  {
   "cell_type": "code",
   "execution_count": 39,
   "metadata": {},
   "outputs": [
    {
     "name": "stderr",
     "output_type": "stream",
     "text": [
      "C:\\Users\\Raul Gonzalez\\Anaconda3\\lib\\site-packages\\sklearn\\svm\\base.py:193: FutureWarning: The default value of gamma will change from 'auto' to 'scale' in version 0.22 to account better for unscaled features. Set gamma explicitly to 'auto' or 'scale' to avoid this warning.\n",
      "  \"avoid this warning.\", FutureWarning)\n"
     ]
    },
    {
     "data": {
      "text/plain": [
       "SVC(C=1.0, cache_size=200, class_weight=None, coef0=0.0,\n",
       "    decision_function_shape='ovr', degree=3, gamma='auto_deprecated',\n",
       "    kernel='rbf', max_iter=-1, probability=True, random_state=None,\n",
       "    shrinking=True, tol=0.001, verbose=False)"
      ]
     },
     "execution_count": 39,
     "metadata": {},
     "output_type": "execute_result"
    }
   ],
   "source": [
    "#Definimos el kernel radial\n",
    "svclassifier = SVC(kernel='rbf',probability=True)\n",
    "svclassifier.fit(x_train_norm, y_train)"
   ]
  },
  {
   "cell_type": "code",
   "execution_count": 40,
   "metadata": {},
   "outputs": [
    {
     "name": "stdout",
     "output_type": "stream",
     "text": [
      "Confusion matrix\n",
      " [[4732  142]\n",
      " [  38  458]]\n",
      "\n",
      "Acurracy: 0.9659408151870463\n",
      "Precision: 0.7633333333333333\n",
      "Sensitivity: 0.9233870967741935\n",
      "Specificity: 0.9708658186294624\n",
      "F1-score: 0.8357664233576643\n",
      "\n",
      "Optimal threshold: 0.6213782934835108\n",
      "AUC: 0.976768187353568\n",
      "\n",
      "Log loss: 1.1577454923499098\n"
     ]
    },
    {
     "data": {
      "image/png": "[encoded data removed]",
      "text/plain": [
       "<Figure size 432x288 with 1 Axes>"
      ]
     },
     "metadata": {
      "needs_background": "light"
     },
     "output_type": "display_data"
    }
   ],
   "source": [
    "#Encontramos las predicciones\n",
    "y_kernelsvm_pred = svclassifier.predict(x_test_norm)\n",
    "\n",
    "#Encontramos la probabilidad de las perdicciones que sea clase 1\n",
    "y_kernelsvm_pred_proba = svclassifier.predict_proba(x_test_norm)[:,1]\n",
    "\n",
    "#Calculamos la matrix de confusión\n",
    "confusion_kernelsvm = confusion_matrix(y_test,y_kernelsvm_pred)\n",
    "print('Confusion matrix\\n',confusion_kernelsvm)\n",
    "\n",
    "#Se calculan las métricas de evaluación\n",
    "accuracy=((confusion_kernelsvm[0,0]+confusion_kernelsvm[1,1])/(confusion_kernelsvm[0,0]+confusion_kernelsvm[0,1]+confusion_kernelsvm[1,0]+confusion_svm[1,1]))\n",
    "precision=(confusion_kernelsvm[1,1]/(confusion_kernelsvm[1,1]+confusion_kernelsvm[0,1]))\n",
    "sensitivity=(confusion_kernelsvm[1,1]/(confusion_kernelsvm[1,1]+confusion_kernelsvm[1,0]))\n",
    "specificity=(confusion_kernelsvm[0,0]/(confusion_kernelsvm[0,0]+confusion_kernelsvm[0,1]))\n",
    "f1score=2*(precision*sensitivity)/(precision+sensitivity)\n",
    "\n",
    "print('\\nAcurracy:',accuracy)\n",
    "print('Precision:',precision)\n",
    "print('Sensitivity:',sensitivity)\n",
    "print('Specificity:',specificity)\n",
    "print('F1-score:',f1score)\n",
    "\n",
    "\n",
    "#Obtenemos el false positve rate y el true positive rate con librerías\n",
    "fpr_kernelsvm, tpr_kernelsvm, thresholds_kernelsvm = metrics.roc_curve(y_test, y_kernelsvm_pred_proba)\n",
    "\n",
    "#Calculamos el área bajo la curva ROC utilizando librerías\n",
    "auc_kernelsvm=skm.roc_auc_score(y_test,y_kernelsvm_pred_proba)\n",
    "\n",
    "#Se obtiene el umbral óptimo\n",
    "optimal_thresholds_kernelsvm_idx=np.argmax(tpr_kernelsvm-fpr_kernelsvm)\n",
    "\n",
    "optimal_thresholds_kernelsvm=thresholds_kernelsvm[optimal_thresholds_kernelsvm_idx]\n",
    "print('\\nOptimal threshold:',optimal_thresholds_kernelsvm)\n",
    "print('AUC:',auc_kernelsvm)\n",
    "\n",
    "svmkernel_loss = log_loss(y_test, y_kernelsvm_pred)\n",
    "print(\"\\nLog loss:\",svmkernel_loss)\n",
    "\n",
    "#Graficamos la curva ROC utilizando librerías\n",
    "plt.figure()\n",
    "plt.plot(fpr_kernelsvm, tpr_kernelsvm,\"r\", linewidth=3, label='AUC {}'.format('%.4f' % auc_kernelsvm))\n",
    "plt.scatter((fpr_kernelsvm[optimal_thresholds_kernelsvm_idx]),tpr_kernelsvm[optimal_thresholds_kernelsvm_idx], alpha = 1, color='b', label='Best Threshold {}'.format('%.4f' % thresholds_kernelsvm[optimal_thresholds_kernelsvm_idx]))\n",
    "plt.title(\"ROC Curve\\nSVM Radial Kernel\")\n",
    "plt.xlabel('1-Specificity')\n",
    "plt.ylabel('Sensitivity') \n",
    "plt.legend()\n",
    "plt.show()"
   ]
  },
  {
   "cell_type": "markdown",
   "metadata": {},
   "source": [
    "## K Nearest Neighbors"
   ]
  },
  {
   "cell_type": "code",
   "execution_count": 41,
   "metadata": {},
   "outputs": [
    {
     "name": "stdout",
     "output_type": "stream",
     "text": [
      "Confusion atrix\n",
      " [[4569  305]\n",
      " [  38  458]]\n",
      "\n",
      "Acurracy: 0.9361266294227188\n",
      "Precision: 0.6002621231979031\n",
      "Sensitivity: 0.9233870967741935\n",
      "Specificity: 0.9374230611407468\n",
      "F1-score: 0.7275615567911041\n",
      "\n",
      "Optimal threshold: 0.8\n",
      "AUC: 0.9558273740188227\n",
      "\n",
      "Log loss: 2.206153478709605\n"
     ]
    },
    {
     "data": {
      "image/png": "[encoded data removed]",
      "text/plain": [
       "<Figure size 432x288 with 1 Axes>"
      ]
     },
     "metadata": {
      "needs_background": "light"
     },
     "output_type": "display_data"
    }
   ],
   "source": [
    "#Primero entrenamos el modelo con un valor de k=5\n",
    "KNN = KNeighborsClassifier(n_neighbors=5)\n",
    "KNN.fit(x_train_norm,y_train)\n",
    "\n",
    "#Encontramos las predicciones para KNN con 5 neighbors\n",
    "y_KNN_pred = KNN.predict(x_test_norm)\n",
    "#Encontramos la probabilidad de las perdicciones que sea clase 1\n",
    "y_KNN_pred_proba = KNN.predict_proba(x_test_norm)[:,1]\n",
    "\n",
    "#Calculamos la matrix de confusión\n",
    "confusion_KNN = confusion_matrix(y_test,y_KNN_pred)\n",
    "print('Confusion atrix\\n',confusion_KNN)\n",
    "\n",
    "#Se calculan las métricas de evaluación\n",
    "accuracy=((confusion_KNN[0,0]+confusion_KNN[1,1])/(confusion_KNN[0,0]+confusion_KNN[0,1]+confusion_KNN[1,0]+confusion_KNN[1,1]))\n",
    "precision=(confusion_KNN[1,1]/(confusion_KNN[1,1]+confusion_KNN[0,1]))\n",
    "sensitivity=(confusion_KNN[1,1]/(confusion_KNN[1,1]+confusion_KNN[1,0]))\n",
    "specificity=(confusion_KNN[0,0]/(confusion_KNN[0,0]+confusion_KNN[0,1]))\n",
    "f1score=2*(precision*sensitivity)/(precision+sensitivity)\n",
    "\n",
    "print('\\nAcurracy:',accuracy)\n",
    "print('Precision:',precision)\n",
    "print('Sensitivity:',sensitivity)\n",
    "print('Specificity:',specificity)\n",
    "print('F1-score:',f1score)\n",
    "\n",
    "#Obtenemos el false positve rate y el true positive rate con librerías\n",
    "fpr_KNN, tpr_KNN, thresholds_KNN = metrics.roc_curve(y_test, y_KNN_pred_proba)\n",
    "\n",
    "#Calculamos el área bajo la curva ROC utilizando librerías\n",
    "auc_KNN=skm.roc_auc_score(y_test,y_KNN_pred_proba)\n",
    "\n",
    "#Encontramos el umbral óptimo\n",
    "optimal_thresholds_KNN_idx=np.argmax(tpr_KNN-fpr_KNN)\n",
    "\n",
    "optimal_thresholds_KNN=thresholds_KNN[optimal_thresholds_KNN_idx]\n",
    "print('\\nOptimal threshold:',optimal_thresholds_KNN)\n",
    "print('AUC:',auc_KNN)\n",
    "\n",
    "KNN_loss = log_loss(y_test, y_KNN_pred)\n",
    "print(\"\\nLog loss:\",KNN_loss)\n",
    "\n",
    "#Graficamos la curva ROC utilizando librerías\n",
    "plt.figure()\n",
    "plt.plot(fpr_KNN, tpr_KNN,\"r\", linewidth=3, label='AUC {}'.format('%.4f' % auc_KNN))\n",
    "plt.scatter((fpr_KNN[optimal_thresholds_KNN_idx]),tpr_KNN[optimal_thresholds_KNN_idx], alpha = 1, color='b', label='Best Threshold {}'.format('%.4f' % thresholds_KNN[optimal_thresholds_KNN_idx]))\n",
    "plt.title(\"ROC Curve\\nK Nearest Neighbors\\nK=5\")\n",
    "plt.xlabel('1-Specificity')\n",
    "plt.ylabel('Sensitivity') \n",
    "plt.legend()\n",
    "plt.show()"
   ]
  },
  {
   "cell_type": "code",
   "execution_count": 42,
   "metadata": {},
   "outputs": [
    {
     "name": "stdout",
     "output_type": "stream",
     "text": [
      "[0.75914894 0.78031634 0.73821138 0.76222597 0.72756156 0.75518672\n",
      " 0.73902634 0.76142976 0.74110032 0.75833333 0.74774035 0.76754015\n",
      " 0.75621891 0.76818951 0.75477972 0.77342419 0.7627829  0.77053345\n",
      " 0.76254181 0.77380952 0.76703112 0.77910959 0.77288136 0.78111588\n",
      " 0.77184054 0.77645051 0.77195946 0.77853492 0.77430262 0.7822374\n",
      " 0.77403035 0.78156997 0.77468354 0.7826087  0.77533784 0.78194208\n",
      " 0.77599324 0.78194208 0.77928693 0.7826087  0.77730737 0.78394535\n",
      " 0.77862595 0.78090367 0.77561389 0.7802385  0.77862595 0.78327645\n",
      " 0.77928693 0.7826087  0.7779661  0.78194208 0.77730737 0.77994902\n",
      " 0.77834179 0.78098472 0.77966102 0.77994902 0.78032231 0.78098472\n",
      " 0.77966102 0.78098472 0.77834179 0.78098472 0.77900085 0.78098472\n",
      " 0.77834179 0.78032231 0.77900085 0.78098472 0.77966102 0.78098472\n",
      " 0.78032231 0.78164826 0.78164826 0.78164826 0.78032231 0.78164826\n",
      " 0.78032231 0.78098472 0.78098472 0.78297872 0.78098472 0.7812766\n",
      " 0.77994902 0.7802385  0.77862595 0.77891156 0.7779661  0.7802385\n",
      " 0.77891156 0.7802385  0.77891156 0.77957447 0.77957447 0.77853492\n",
      " 0.77787234 0.77919864 0.77919864 0.77986348]\n"
     ]
    }
   ],
   "source": [
    "#Encontramos el valor de k que maximice la el f1score\n",
    "\n",
    "min_k=1\n",
    "max_k=100\n",
    "k=np.linspace(min_k, max_k, max_k)\n",
    "KNN_precision=np.zeros(max_k)\n",
    "KNN_sensitivity=np.zeros(max_k)\n",
    "KNN_f1score=np.zeros(max_k)\n",
    "n=0\n",
    "\n",
    "for i in range (min_k,max_k+1):\n",
    "    KNN = KNeighborsClassifier(n_neighbors=i)\n",
    "    KNN.fit(x_train_norm,y_train)\n",
    "    y_KNN_pred = KNN.predict(x_test_norm)\n",
    "    confusion_KNN = confusion_matrix(y_test,y_KNN_pred)\n",
    "    KNN_precision[n]=(confusion_KNN[1,1]/(confusion_KNN[1,1]+confusion_KNN[0,1]))\n",
    "    KNN_sensitivity[n]=(confusion_KNN[1,1]/(confusion_KNN[1,1]+confusion_KNN[1,0]))\n",
    "    KNN_f1score[n]=2*(KNN_precision[n]*KNN_sensitivity[n])/(KNN_precision[n]+KNN_sensitivity[n])\n",
    "    n+=1\n",
    "    \n",
    "print(KNN_f1score)   "
   ]
  },
  {
   "cell_type": "code",
   "execution_count": 43,
   "metadata": {},
   "outputs": [
    {
     "name": "stdout",
     "output_type": "stream",
     "text": [
      "Mejor valor de K: 42\n"
     ]
    },
    {
     "data": {
      "image/png": "[encoded data removed]",
      "text/plain": [
       "<Figure size 432x288 with 1 Axes>"
      ]
     },
     "metadata": {
      "needs_background": "light"
     },
     "output_type": "display_data"
    }
   ],
   "source": [
    "#Imprime el mejor número de k\n",
    "k=np.array(k, dtype='int64')\n",
    "print('Mejor valor de K:', k[KNN_f1score.argmax()])\n",
    "\n",
    "#Graficamos el f1score en función del valor de k\n",
    "plt.figure()\n",
    "plt.scatter(k, KNN_f1score, alpha = 1, color='r')\n",
    "plt.scatter(k[KNN_f1score.argmax()], KNN_f1score[KNN_f1score.argmax()], alpha = 1, color='b', label='Best K {}'.format('%d' % k[KNN_f1score.argmax()]))\n",
    "plt.title(\"f1score in function of K\")\n",
    "plt.xlabel('K')\n",
    "plt.ylabel('f1score') \n",
    "plt.legend()\n",
    "plt.show()"
   ]
  },
  {
   "cell_type": "code",
   "execution_count": 44,
   "metadata": {},
   "outputs": [
    {
     "name": "stdout",
     "output_type": "stream",
     "text": [
      "Confusion matrix\n",
      " [[4658  216]\n",
      " [  37  459]]\n",
      "\n",
      "Acurracy: 0.9528864059590316\n",
      "Precision: 0.68\n",
      "Sensitivity: 0.9254032258064516\n",
      "Specificity: 0.9556832170701682\n",
      "F1-score: 0.7839453458582408\n",
      "\n",
      "Optimal threshold: 0.6428571428571429\n",
      "AUC: 0.9710124574768025\n",
      "\n",
      "Log loss: 1.627278052319801\n"
     ]
    },
    {
     "data": {
      "image/png": "[encoded data removed]",
      "text/plain": [
       "<Figure size 432x288 with 1 Axes>"
      ]
     },
     "metadata": {
      "needs_background": "light"
     },
     "output_type": "display_data"
    }
   ],
   "source": [
    "#Entrenamos el modelo con el mejor valor de K\n",
    "KNN = KNeighborsClassifier(n_neighbors=k[KNN_f1score.argmax()])\n",
    "KNN.fit(x_train_norm,y_train)\n",
    "\n",
    "#Encontramos las predicciones y probabilidad de clase 1 para KNN con el valor de k que máximiza la precisión\n",
    "y_KNN_pred = KNN.predict(x_test_norm)\n",
    "y_KNN_pred_proba = KNN.predict_proba(x_test_norm)[:,1]\n",
    "\n",
    "#Calculamos la matrix de confusión\n",
    "confusion_KNN = confusion_matrix(y_test,y_KNN_pred)\n",
    "print('Confusion matrix\\n',confusion_KNN)\n",
    "\n",
    "#Se calculan las métricas de evaluación\n",
    "accuracy=((confusion_KNN[0,0]+confusion_KNN[1,1])/(confusion_KNN[0,0]+confusion_KNN[0,1]+confusion_KNN[1,0]+confusion_KNN[1,1]))\n",
    "precision=(confusion_KNN[1,1]/(confusion_KNN[1,1]+confusion_KNN[0,1]))\n",
    "sensitivity=(confusion_KNN[1,1]/(confusion_KNN[1,1]+confusion_KNN[1,0]))\n",
    "specificity=(confusion_KNN[0,0]/(confusion_KNN[0,0]+confusion_KNN[0,1]))\n",
    "f1score=2*(precision*sensitivity)/(precision+sensitivity)\n",
    "\n",
    "print('\\nAcurracy:',accuracy)\n",
    "print('Precision:',precision)\n",
    "print('Sensitivity:',sensitivity)\n",
    "print('Specificity:',specificity)\n",
    "print('F1-score:',f1score)\n",
    "\n",
    "#Obtenemos el false positve rate y el true positive rate con librerías\n",
    "fpr_KNN, tpr_KNN, thresholds_KNN = metrics.roc_curve(y_test, y_KNN_pred_proba)\n",
    "\n",
    "#Calculamos el área bajo la curva ROC utilizando librerías\n",
    "auc_KNN=skm.roc_auc_score(y_test,y_KNN_pred_proba)\n",
    "\n",
    "#Encontramos el umbral óptimo\n",
    "optimal_thresholds_KNN_idx=np.argmax(tpr_KNN-fpr_KNN)\n",
    "\n",
    "optimal_thresholds_KNN=thresholds_KNN[optimal_thresholds_KNN_idx]\n",
    "print('\\nOptimal threshold:',optimal_thresholds_KNN)\n",
    "print('AUC:',auc_KNN)\n",
    "\n",
    "KNN_loss = log_loss(y_test, y_KNN_pred)\n",
    "print(\"\\nLog loss:\",KNN_loss)\n",
    "\n",
    "#Graficamos la curva ROC utilizando librerías\n",
    "plt.figure()\n",
    "plt.plot(fpr_KNN, tpr_KNN,\"r\", linewidth=3, label='AUC {}'.format('%.4f' % auc_KNN))\n",
    "plt.scatter((fpr_KNN[optimal_thresholds_KNN_idx]),tpr_KNN[optimal_thresholds_KNN_idx], alpha = 1, color='b', label='Best Threshold {}'.format('%.4f' % thresholds_KNN[optimal_thresholds_KNN_idx]))\n",
    "plt.title(\"ROC Curve\\nK Nearest Neighbors\\nK=42\")\n",
    "plt.xlabel('1-Specificity')\n",
    "plt.ylabel('Sensitivity') \n",
    "plt.legend()\n",
    "plt.show()"
   ]
  },
  {
   "cell_type": "markdown",
   "metadata": {},
   "source": [
    "## Neural Networks"
   ]
  },
  {
   "cell_type": "code",
   "execution_count": 45,
   "metadata": {},
   "outputs": [],
   "source": [
    "#Se crea el modelo\n",
    "model = Sequential()\n",
    "\n",
    "model.add(Dense(4, input_shape= (8,), activation ='sigmoid'))\n",
    "model.add(Dense(2, activation='sigmoid'))\n",
    "model.add(Dense(1, activation='sigmoid'))\n",
    "\n",
    "model.compile(loss='binary_crossentropy', optimizer= 'sgd', metrics = ['accuracy'])\n",
    "class_weight = {0 : 1., 1 : 2.}\n",
    "H = model.fit(x_train_norm,\n",
    "                    y_train,\n",
    "                    batch_size = 128,\n",
    "                   epochs = 200,\n",
    "                   class_weight=class_weight,\n",
    "                   verbose = 0,\n",
    "                   validation_data = (x_test_norm, y_test))\n",
    "\n",
    "scores = model.evaluate(x_test_norm, y_test, verbose = 0)\n",
    "#Se hacen las predicciones del modelo\n",
    "predictions_proba = model.predict(x_test_norm, batch_size=128)\n",
    "predictions = model.predict(x_test_norm, batch_size=128)\n",
    "predictions[predictions < 0.5] = 0\n",
    "predictions[predictions >= 0.5] = 1\n",
    "predictions=np.array(predictions, dtype='float64')"
   ]
  },
  {
   "cell_type": "code",
   "execution_count": 46,
   "metadata": {},
   "outputs": [
    {
     "name": "stdout",
     "output_type": "stream",
     "text": [
      "Confusion matrix\n",
      " [[4453  421]\n",
      " [  32  464]]\n",
      "\n",
      "Acurracy: 0.9156424581005587\n",
      "Precision: 0.5242937853107345\n",
      "Sensitivity: 0.9354838709677419\n",
      "Specificity: 0.9136233073450964\n",
      "F1-score: 0.6719768283852281\n",
      "\n",
      "Optimal threshold: 0.71408683\n",
      "AUC 0.9735892887871126\n",
      "\n",
      "Log loss: 2.913668964136435\n"
     ]
    },
    {
     "data": {
      "image/png": "[encoded data removed]",
      "text/plain": [
       "<Figure size 432x288 with 1 Axes>"
      ]
     },
     "metadata": {
      "needs_background": "light"
     },
     "output_type": "display_data"
    }
   ],
   "source": [
    "#Se calcula la matriz de confusión\n",
    "confusion_NN= confusion_matrix(y_test, predictions)\n",
    "print('Confusion matrix\\n',confusion_NN)\n",
    "\n",
    "#Se calculan las métricas de evaluación\n",
    "accuracy=((confusion_NN[0,0]+confusion_NN[1,1])/(confusion_NN[0,0]+confusion_NN[0,1]+confusion_NN[1,0]+confusion_NN[1,1]))\n",
    "precision=(confusion_NN[1,1]/(confusion_NN[1,1]+confusion_NN[0,1]))\n",
    "sensitivity=(confusion_NN[1,1]/(confusion_NN[1,1]+confusion_NN[1,0]))\n",
    "specificity=(confusion_NN[0,0]/(confusion_NN[0,0]+confusion_NN[0,1]))\n",
    "f1score=2*(precision*sensitivity)/(precision+sensitivity)\n",
    "\n",
    "print('\\nAcurracy:',accuracy)\n",
    "print('Precision:',precision)\n",
    "print('Sensitivity:',sensitivity)\n",
    "print('Specificity:',specificity)\n",
    "print('F1-score:',f1score)\n",
    "\n",
    "#Obtenemos el false positve rate y el true positive rate con librerías\n",
    "fpr_NN, tpr_NN, thresholds_NN = metrics.roc_curve(y_test, predictions_proba)\n",
    "\n",
    "#Calculamos el área bajo la curva ROC utilizando librerías\n",
    "auc_NN=skm.roc_auc_score(y_test, predictions_proba)\n",
    "\n",
    "#Encontramos el umbral óptimo\n",
    "optimal_thresholds_NN_idx=np.argmax(tpr_NN-fpr_NN)\n",
    "\n",
    "optimal_thresholds_NN=thresholds_NN[optimal_thresholds_NN_idx]\n",
    "print('\\nOptimal threshold:',optimal_thresholds_NN)\n",
    "print('AUC',auc_NN)\n",
    "\n",
    "NN_loss = log_loss(y_test, predictions)\n",
    "print(\"\\nLog loss:\", NN_loss)\n",
    "\n",
    "#Graficamos la curva ROC utilizando librerías\n",
    "plt.figure()\n",
    "plt.plot(fpr_NN, tpr_NN,\"r\", linewidth=3, label='AUC {}'.format('%.4f' % auc_NN))\n",
    "plt.scatter((fpr_NN[optimal_thresholds_NN_idx]),tpr_NN[optimal_thresholds_NN_idx], alpha = 1, color='b', label='Best Threshold {}'.format('%.4f' % thresholds_NN[optimal_thresholds_NN_idx]))\n",
    "plt.title(\"ROC Curve\\nNeural networks\\n\")\n",
    "plt.xlabel('1-Specificity')\n",
    "plt.ylabel('Sensitivity') \n",
    "plt.legend()\n",
    "plt.show()"
   ]
  },
  {
   "cell_type": "markdown",
   "metadata": {},
   "source": [
    "## Random Forest\n"
   ]
  },
  {
   "cell_type": "code",
   "execution_count": 47,
   "metadata": {},
   "outputs": [
    {
     "name": "stdout",
     "output_type": "stream",
     "text": [
      "Confusion matrix\n",
      " [[4763  111]\n",
      " [  43  453]]\n",
      "\n",
      "Acurracy: 0.9713221601489758\n",
      "Precision: 0.8031914893617021\n",
      "Sensitivity: 0.9133064516129032\n",
      "Specificity: 0.9772260976610587\n",
      "F1-score: 0.8547169811320755\n",
      "\n",
      "Optimal threshold: 0.42\n",
      "AUC: 0.977437679524005\n",
      "\n",
      "Log loss: 0.9905140260951586\n"
     ]
    },
    {
     "data": {
      "image/png": "[encoded data removed]",
      "text/plain": [
       "<Figure size 432x288 with 1 Axes>"
      ]
     },
     "metadata": {
      "needs_background": "light"
     },
     "output_type": "display_data"
    }
   ],
   "source": [
    "#Se crea el algoritmo utilizando el criterio de la entropía para la ganancia de información y 100 árboles \n",
    "RF = RandomForestClassifier(criterion='entropy', oob_score=True, random_state=1, n_estimators=100)\n",
    "RF.fit(x_train_norm, y_train)\n",
    "\n",
    "#Se realizan las predicciones, se encuentran las probabilidades y se calcula la matriz de confunsión\n",
    "y_RF_pred = RF.predict(x_test_norm)\n",
    "y_RF_pred_proba = RF.predict_proba(x_test_norm)[:,1]\n",
    "confusion_RF=confusion_matrix(y_test, y_RF_pred)\n",
    "print('Confusion matrix\\n',confusion_RF)\n",
    "\n",
    "#Se calculan las métricas de evaluación\n",
    "accuracy=((confusion_RF[0,0]+confusion_RF[1,1])/(confusion_RF[0,0]+confusion_RF[0,1]+confusion_RF[1,0]+confusion_RF[1,1]))\n",
    "precision=(confusion_RF[1,1]/(confusion_RF[1,1]+confusion_RF[0,1]))\n",
    "sensitivity=(confusion_RF[1,1]/(confusion_RF[1,1]+confusion_RF[1,0]))\n",
    "specificity=(confusion_RF[0,0]/(confusion_RF[0,0]+confusion_RF[0,1]))\n",
    "f1score=2*(precision*sensitivity)/(precision+sensitivity)\n",
    "\n",
    "print('\\nAcurracy:',accuracy)\n",
    "print('Precision:',precision)\n",
    "print('Sensitivity:',sensitivity)\n",
    "print('Specificity:',specificity)\n",
    "print('F1-score:',f1score)\n",
    "\n",
    "#Obtenemos el false positve rate y el true positive rate con librerías\n",
    "fpr_RF, tpr_RF, thresholds_RF = metrics.roc_curve(y_test, y_RF_pred_proba)\n",
    "\n",
    "#Calculamos el área bajo la curva ROC utilizando librerías\n",
    "auc_RF=skm.roc_auc_score(y_test,y_RF_pred_proba)\n",
    "\n",
    "#Encontramos el umbral óptimo\n",
    "optimal_thresholds_RF_idx=np.argmax(tpr_RF-fpr_RF)\n",
    "\n",
    "\n",
    "optimal_thresholds_RF=thresholds_RF[optimal_thresholds_RF_idx]\n",
    "print('\\nOptimal threshold:',optimal_thresholds_RF)\n",
    "print('AUC:',auc_RF)\n",
    "\n",
    "RF_loss = log_loss(y_test, y_RF_pred)\n",
    "print(\"\\nLog loss:\", RF_loss)\n",
    "\n",
    "#Graficamos la curva ROC utilizando librerías\n",
    "plt.figure()\n",
    "plt.plot(fpr_RF, tpr_RF,\"r\", linewidth=3, label='AUC {}'.format('%.4f' % auc_RF))\n",
    "plt.scatter((fpr_RF[optimal_thresholds_RF_idx]),tpr_RF[optimal_thresholds_RF_idx], alpha = 1, color='b', label='Best Threshold {}'.format('%.4f' % thresholds_RF[optimal_thresholds_RF_idx]))\n",
    "plt.title(\"ROC Curve\\nRandom Forest\\nCriterion:Entropy Trees:100\")\n",
    "plt.xlabel('1-Specificity')\n",
    "plt.ylabel('Sensitivity') \n",
    "plt.legend()\n",
    "plt.show()"
   ]
  },
  {
   "cell_type": "code",
   "execution_count": 48,
   "metadata": {},
   "outputs": [
    {
     "name": "stdout",
     "output_type": "stream",
     "text": [
      "Confusion matrix\n",
      " [[4768  106]\n",
      " [  43  453]]\n",
      "\n",
      "Acurracy: 0.9722532588454376\n",
      "Precision: 0.8103756708407871\n",
      "Sensitivity: 0.9133064516129032\n",
      "Specificity: 0.9782519491177677\n",
      "F1-score: 0.8587677725118483\n",
      "\n",
      "Optimal threshold: 0.35\n",
      "AUC: 0.9775466762412803\n",
      "\n",
      "Log loss: 0.9583542719123459\n"
     ]
    },
    {
     "data": {
      "image/png": "[encoded data removed]",
      "text/plain": [
       "<Figure size 432x288 with 1 Axes>"
      ]
     },
     "metadata": {
      "needs_background": "light"
     },
     "output_type": "display_data"
    }
   ],
   "source": [
    "#Se crea el algoritmo utilizando el criterio del Gini impurity y 100 árboles \n",
    "RF = RandomForestClassifier(criterion='gini', oob_score=True, random_state=1, n_estimators=100)\n",
    "RF.fit(x_train_norm, y_train)\n",
    "\n",
    "#Se realizan las predicciones, se encuentran las probabilidades y se calcula la matriz de confunsión\n",
    "y_RF_pred = RF.predict(x_test_norm)\n",
    "y_RF_pred_proba = RF.predict_proba(x_test_norm)[:,1]\n",
    "confusion_RF=confusion_matrix(y_test, y_RF_pred)\n",
    "\n",
    "print('Confusion matrix\\n',confusion_RF)\n",
    "\n",
    "#Se calculan las métricas de evaluación\n",
    "accuracy=((confusion_RF[0,0]+confusion_RF[1,1])/(confusion_RF[0,0]+confusion_RF[0,1]+confusion_RF[1,0]+confusion_RF[1,1]))\n",
    "precision=(confusion_RF[1,1]/(confusion_RF[1,1]+confusion_RF[0,1]))\n",
    "sensitivity=(confusion_RF[1,1]/(confusion_RF[1,1]+confusion_RF[1,0]))\n",
    "specificity=(confusion_RF[0,0]/(confusion_RF[0,0]+confusion_RF[0,1]))\n",
    "f1score=2*(precision*sensitivity)/(precision+sensitivity)\n",
    "\n",
    "print('\\nAcurracy:',accuracy)\n",
    "print('Precision:',precision)\n",
    "print('Sensitivity:',sensitivity)\n",
    "print('Specificity:',specificity)\n",
    "print('F1-score:',f1score)\n",
    "\n",
    "#Obtenemos el false positve rate y el true positive rate con librerías\n",
    "fpr_RF, tpr_RF, thresholds_RF = metrics.roc_curve(y_test, y_RF_pred_proba)\n",
    "\n",
    "#Calculamos el área bajo la curva ROC utilizando librerías\n",
    "auc_RF=skm.roc_auc_score(y_test,y_RF_pred_proba)\n",
    "\n",
    "#Encontramos el umbral óptimo\n",
    "optimal_thresholds_RF_idx=np.argmax(tpr_RF-fpr_RF)\n",
    "\n",
    "optimal_thresholds_RF=thresholds_RF[optimal_thresholds_RF_idx]\n",
    "print('\\nOptimal threshold:',optimal_thresholds_RF)\n",
    "print('AUC:',auc_RF)\n",
    "\n",
    "RF_loss = log_loss(y_test, y_RF_pred)\n",
    "print(\"\\nLog loss:\", RF_loss)\n",
    "\n",
    "#Graficamos la curva ROC utilizando librerías\n",
    "plt.figure()\n",
    "plt.plot(fpr_RF, tpr_RF,\"r\", linewidth=3, label='AUC {}'.format('%.4f' % auc_RF))\n",
    "plt.scatter((fpr_RF[optimal_thresholds_RF_idx]),tpr_RF[optimal_thresholds_RF_idx], alpha = 1, color='b', label='Best Threshold {}'.format('%.4f' % thresholds_RF[optimal_thresholds_RF_idx]))\n",
    "plt.title(\"ROC Curve\\nRandom Forest\\nCriterion:Gini Impurity Trees:100\")\n",
    "plt.xlabel('1-Specificity')\n",
    "plt.ylabel('Sensitivity') \n",
    "plt.legend()\n",
    "plt.show()"
   ]
  },
  {
   "cell_type": "code",
   "execution_count": 49,
   "metadata": {},
   "outputs": [],
   "source": [
    "#Se itera el número de árboles desde 64 hasta 128 utilizando ambos criterios de evaluación y escogiendo\n",
    "#el modelo que tiene el mejor AUC\n",
    "\n",
    "min_trees=64\n",
    "max_trees=128\n",
    "trees_range=(max_trees-min_trees)+1\n",
    "trees = np.linspace(min_trees, max_trees, trees_range)\n",
    "\n",
    "trees=np.array(trees, dtype='int64')\n",
    "\n",
    "auc_RF_gini=np.zeros(trees_range)\n",
    "\n",
    "auc_RF_entropy=np.zeros(trees_range)\n",
    "\n",
    "n=0\n",
    "\n",
    "for i in trees:\n",
    "    RF = RandomForestClassifier(criterion='gini', oob_score=True, random_state=1, n_estimators=i)\n",
    "    RF.fit(x_train_norm, y_train)\n",
    "    y_RF_gini_pred_proba = RF.predict_proba(x_test_norm)[:,1]\n",
    "\n",
    "    #Calculamos el área bajo la curva ROC utilizando librerías\n",
    "    auc_RF_gini[n]=skm.roc_auc_score(y_test,y_RF_gini_pred_proba)\n",
    "    n+=1\n",
    "    \n",
    "n=0\n",
    "\n",
    "for i in trees:\n",
    "    RF = RandomForestClassifier(criterion='entropy', oob_score=True, random_state=1, n_estimators=i)\n",
    "    RF.fit(x_train_norm, y_train)\n",
    "    y_RF_entropy_pred_proba = RF.predict_proba(x_test_norm)[:,1]\n",
    "\n",
    "    #Calculamos el área bajo la curva ROC utilizando librerías\n",
    "    auc_RF_entropy[n]=skm.roc_auc_score(y_test,y_RF_gini_pred_proba)\n",
    "    n+=1\n"
   ]
  },
  {
   "cell_type": "code",
   "execution_count": 50,
   "metadata": {},
   "outputs": [
    {
     "name": "stdout",
     "output_type": "stream",
     "text": [
      "[0.97773282 0.97786932 0.97782051 0.97776322 0.97766746 0.97758163\n",
      " 0.97749683 0.97744326 0.97751813 0.97756839 0.97748132 0.97741762\n",
      " 0.97749021 0.97738163 0.97734461 0.97728877 0.97722713 0.97720976\n",
      " 0.97729704 0.97746457 0.9775171  0.97744471 0.97768752 0.97761886\n",
      " 0.97757232 0.97752041 0.97757232 0.97753137 0.9774747  0.97746788\n",
      " 0.97755102 0.9775231  0.97746726 0.97740914 0.9773897  0.97742796\n",
      " 0.97754668 0.97750862 0.97755578 0.97754192 0.97749849 0.97747946\n",
      " 0.9774565  0.97745753 0.9781171  0.97807946 0.97803127 0.9779808\n",
      " 0.97794213 0.97791855 0.97799425 0.97796239 0.97815619 0.97813013\n",
      " 0.97806663 0.97814337 0.97808132 0.97802879 0.97801617 0.978193\n",
      " 0.97816736 0.97811689 0.97814068 0.97809518 0.97804554]\n",
      "[0.97804554 0.97804554 0.97804554 0.97804554 0.97804554 0.97804554\n",
      " 0.97804554 0.97804554 0.97804554 0.97804554 0.97804554 0.97804554\n",
      " 0.97804554 0.97804554 0.97804554 0.97804554 0.97804554 0.97804554\n",
      " 0.97804554 0.97804554 0.97804554 0.97804554 0.97804554 0.97804554\n",
      " 0.97804554 0.97804554 0.97804554 0.97804554 0.97804554 0.97804554\n",
      " 0.97804554 0.97804554 0.97804554 0.97804554 0.97804554 0.97804554\n",
      " 0.97804554 0.97804554 0.97804554 0.97804554 0.97804554 0.97804554\n",
      " 0.97804554 0.97804554 0.97804554 0.97804554 0.97804554 0.97804554\n",
      " 0.97804554 0.97804554 0.97804554 0.97804554 0.97804554 0.97804554\n",
      " 0.97804554 0.97804554 0.97804554 0.97804554 0.97804554 0.97804554\n",
      " 0.97804554 0.97804554 0.97804554 0.97804554 0.97804554]\n",
      "\n",
      "Max AUC using Gini impurity:  0.978193004023985\n",
      "Max AUC using Entropy Information Gain:  0.9780455378770831\n",
      "\n",
      "Number of trees for highest AUC:  123\n"
     ]
    }
   ],
   "source": [
    "#Se imprimen los AUC y se encuentra el mayor\n",
    "print(auc_RF_gini)\n",
    "print(auc_RF_entropy)\n",
    "\n",
    "print(\"\\nMax AUC using Gini impurity: \",auc_RF_gini.max())\n",
    "print(\"Max AUC using Entropy Information Gain: \",auc_RF_entropy.max())\n",
    "\n",
    "#Finding the optimal number of trees\n",
    "print(\"\\nNumber of trees for highest AUC: \",trees[auc_RF_gini.argmax()])\n"
   ]
  },
  {
   "cell_type": "code",
   "execution_count": 51,
   "metadata": {},
   "outputs": [
    {
     "name": "stdout",
     "output_type": "stream",
     "text": [
      "Confusion matrix\n",
      " [[4761  113]\n",
      " [  43  453]]\n",
      "\n",
      "Acurracy: 0.9709497206703911\n",
      "Precision: 0.8003533568904594\n",
      "Sensitivity: 0.9133064516129032\n",
      "Specificity: 0.9768157570783751\n",
      "F1-score: 0.8531073446327683\n",
      "\n",
      "Optimal threshold: 0.4146341463414634\n",
      "AUC: 0.978193004023985\n",
      "\n",
      "Log loss: 1.0033779277682837\n"
     ]
    },
    {
     "data": {
      "image/png": "[encoded data removed]",
      "text/plain": [
       "<Figure size 432x288 with 1 Axes>"
      ]
     },
     "metadata": {
      "needs_background": "light"
     },
     "output_type": "display_data"
    }
   ],
   "source": [
    "#Running algorithm with the criterion and n_estimators that yield the highest AUC\n",
    "RF = RandomForestClassifier(criterion='gini', oob_score=True, random_state=1, n_estimators=trees[auc_RF_gini.argmax()])\n",
    "RF.fit(x_train_norm, y_train)\n",
    "\n",
    "y_RF_pred = RF.predict(x_test_norm)\n",
    "y_RF_pred_proba = RF.predict_proba(x_test_norm)[:,1]\n",
    "confusion_RF=confusion_matrix(y_test, y_RF_pred)\n",
    "\n",
    "print('Confusion matrix\\n',confusion_RF)\n",
    "\n",
    "#Se calculan las métricas de evaluación\n",
    "accuracy=((confusion_RF[0,0]+confusion_RF[1,1])/(confusion_RF[0,0]+confusion_RF[0,1]+confusion_RF[1,0]+confusion_RF[1,1]))\n",
    "precision=(confusion_RF[1,1]/(confusion_RF[1,1]+confusion_RF[0,1]))\n",
    "sensitivity=(confusion_RF[1,1]/(confusion_RF[1,1]+confusion_RF[1,0]))\n",
    "specificity=(confusion_RF[0,0]/(confusion_RF[0,0]+confusion_RF[0,1]))\n",
    "f1score=2*(precision*sensitivity)/(precision+sensitivity)\n",
    "\n",
    "print('\\nAcurracy:',accuracy)\n",
    "print('Precision:',precision)\n",
    "print('Sensitivity:',sensitivity)\n",
    "print('Specificity:',specificity)\n",
    "print('F1-score:',f1score)\n",
    "\n",
    "#Obtenemos el false positve rate y el true positive rate con librerías\n",
    "fpr_RF, tpr_RF, thresholds_RF = metrics.roc_curve(y_test, y_RF_pred_proba)\n",
    "\n",
    "#Calculamos el área bajo la curva ROC utilizando librerías\n",
    "auc_RF=skm.roc_auc_score(y_test,y_RF_pred_proba)\n",
    "\n",
    "#Encontramos el umbral óptimo\n",
    "optimal_thresholds_RF_idx=np.argmax(tpr_RF-fpr_RF)\n",
    "\n",
    "optimal_thresholds_RF=thresholds_RF[optimal_thresholds_RF_idx]\n",
    "print('\\nOptimal threshold:',optimal_thresholds_RF)\n",
    "print('AUC:',auc_RF)\n",
    "\n",
    "RF_loss = log_loss(y_test, y_RF_pred)\n",
    "print(\"\\nLog loss:\",RF_loss)\n",
    "\n",
    "#Graficamos la curva ROC utilizando librerías\n",
    "plt.figure()\n",
    "plt.plot(fpr_RF, tpr_RF,\"r\", linewidth=3, label='AUC {}'.format('%.4f' % auc_RF))\n",
    "plt.scatter((fpr_RF[optimal_thresholds_RF_idx]),tpr_RF[optimal_thresholds_RF_idx], alpha = 1, color='b', label='Best Threshold {}'.format('%.4f' % thresholds_RF[optimal_thresholds_RF_idx]))\n",
    "plt.title(\"ROC Curve\\nRandom Forest\\nCriterion:Gini Impurity Trees:{0}\".format(trees[auc_RF_gini.argmax()]))\n",
    "plt.xlabel('1-Specificity')\n",
    "plt.ylabel('Sensitivity') \n",
    "plt.legend()\n",
    "plt.show()"
   ]
  }
 ],
 "metadata": {
  "kernelspec": {
   "display_name": "Python 3",
   "language": "python",
   "name": "python3"
  },
  "language_info": {
   "codemirror_mode": {
    "name": "ipython",
    "version": 3
   },
   "file_extension": ".py",
   "mimetype": "text/x-python",
   "name": "python",
   "nbconvert_exporter": "python",
   "pygments_lexer": "ipython3",
   "version": "3.7.4"
  }
 },
 "nbformat": 4,
 "nbformat_minor": 2
}
